{
 "cells": [
  {
   "cell_type": "code",
   "execution_count": 1,
   "metadata": {},
   "outputs": [],
   "source": [
    "#Idea 1 : Average % of stunted children zone wise/region wise/district wise/state wise"
   ]
  },
  {
   "cell_type": "markdown",
   "metadata": {},
   "source": [
    "Children born to thin mothers (BMI less than 18.5 kg/m2\n",
    ") are more likely to be stunted, wasted, and underweight than\n",
    "children born to mothers with a normal BMI or children whose mothers are overweight/obese.\n",
    "x Stunting is higher among children in rural areas (41%) than urban areas (31%).\n",
    "x Fifty-one percent of children born to mothers with no schooling are stunted, compared with 24 percent of children born\n",
    "to mothers with 12 or more years of schooling. The corresponding proportions of underweight children are 47 and 22\n",
    "percent, respectively. "
   ]
  },
  {
   "cell_type": "markdown",
   "metadata": {},
   "source": [
    "Children whose delivery was assisted by health personnel (43%) or who were born at a health facility (43%) were more\n",
    "likely to start breastfeeding within one hour of birth than other children."
   ]
  },
  {
   "cell_type": "markdown",
   "metadata": {},
   "source": [
    "The percentage of children that are breastfed within one hour of birth is very low in Uttar Pradesh (25%); the only states\n",
    "in which more than two-thirds of children are breastfed within one hour of birth are Goa, Mizoram, Sikkim, and Odisha "
   ]
  },
  {
   "cell_type": "markdown",
   "metadata": {},
   "source": [
    "Factors: Residence, Mother's education,Drinking water source - no effect, sanitation, anemia in mom, child, "
   ]
  },
  {
   "cell_type": "markdown",
   "metadata": {},
   "source": [
    "['16. Men age 25-29 years married before age 21 years (%)',\n",
    "\n",
    "'38. Children born at home who were taken to a health facility for check-up within 24 hours of birth (%)', \n",
    "\n",
    "'57. Children with diarrhoea in the last 2 weeks who received oral rehydration salts (ORS) (%)', \n",
    "\n",
    "'58. Children with diarrhoea in the last 2 weeks who received zinc (%)', \n",
    "\n",
    "'59. Children with diarrhoea in the last 2 weeks taken to a health facility (%)', \n",
    "\n",
    "'61. Children with fever or symptoms of ARI in the last 2 weeks preceding the survey taken to a health facility (%)',\n",
    "\n",
    "'63. Children under age 6 months exclusively breastfed9 (%)', \n",
    "\n",
    "'64. Children age 6-8 months receiving solid or semi-solid food and breastmilk9 (%)', \n",
    "\n",
    "'66. Non-breastfeeding children age 6-23 months receiving an adequate diet9 10 (%)', \n",
    "\n",
    "'78. Pregnant women age 15-49 years who are anaemic (<11.0 g/dl) (%)']\n",
    "\n",
    "90\n",
    "\n",
    "100"
   ]
  },
  {
   "cell_type": "markdown",
   "metadata": {},
   "source": [
    "[\n",
    "'16. Men age 25-29 years married before age 21 years (%)', \n",
    "\n",
    "'38. Children born at home who were taken to a health facility for check-up within 24 hours of birth (%)', \n",
    "\n",
    "'45. Births in a private health facility delivered by caesarean section (%)', \n",
    "\n",
    "'57. Children with diarrhoea in the last 2 weeks who received oral rehydration salts (ORS) (%)', \n",
    "\n",
    "'58. Children with diarrhoea in the last 2 weeks who received zinc (%)', \n",
    "\n",
    "'59. Children with diarrhoea in the last 2 weeks taken to a health facility (%)', \n",
    "\n",
    "'61. Children with fever or symptoms of ARI in the last 2 weeks preceding the survey taken to a health facility (%)', \n",
    "\n",
    "'63. Children under age 6 months exclusively breastfed9 (%)', \n",
    "\n",
    "'64. Children age 6-8 months receiving solid or semi-solid food and breastmilk9 (%)', \n",
    "\n",
    "'66. Non-breastfeeding children age 6-23 months receiving an adequate diet9 10 (%)', \n",
    "\n",
    "'78. Pregnant women age 15-49 years who are anaemic (<11.0 g/dl) (%)']"
   ]
  },
  {
   "cell_type": "code",
   "execution_count": null,
   "metadata": {},
   "outputs": [],
   "source": []
  }
 ],
 "metadata": {
  "kernelspec": {
   "display_name": "Python 3",
   "language": "python",
   "name": "python3"
  },
  "language_info": {
   "codemirror_mode": {
    "name": "ipython",
    "version": 3
   },
   "file_extension": ".py",
   "mimetype": "text/x-python",
   "name": "python",
   "nbconvert_exporter": "python",
   "pygments_lexer": "ipython3",
   "version": "3.7.6"
  }
 },
 "nbformat": 4,
 "nbformat_minor": 4
}
