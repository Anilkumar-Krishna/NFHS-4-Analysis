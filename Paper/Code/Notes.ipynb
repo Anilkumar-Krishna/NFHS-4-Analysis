{
 "cells": [
  {
   "cell_type": "code",
   "execution_count": 1,
   "metadata": {},
   "outputs": [],
   "source": [
    "#Idea 1 : Average % of stunted children zone wise/region wise/district wise/state wise"
   ]
  },
  {
   "cell_type": "markdown",
   "metadata": {},
   "source": [
    "Children born to thin mothers (BMI less than 18.5 kg/m2\n",
    ") are more likely to be stunted, wasted, and underweight than\n",
    "children born to mothers with a normal BMI or children whose mothers are overweight/obese.\n",
    "x Stunting is higher among children in rural areas (41%) than urban areas (31%).\n",
    "x Fifty-one percent of children born to mothers with no schooling are stunted, compared with 24 percent of children born\n",
    "to mothers with 12 or more years of schooling. The corresponding proportions of underweight children are 47 and 22\n",
    "percent, respectively. "
   ]
  },
  {
   "cell_type": "markdown",
   "metadata": {},
   "source": [
    "Children whose delivery was assisted by health personnel (43%) or who were born at a health facility (43%) were more\n",
    "likely to start breastfeeding within one hour of birth than other children."
   ]
  },
  {
   "cell_type": "markdown",
   "metadata": {},
   "source": [
    "The percentage of children that are breastfed within one hour of birth is very low in Uttar Pradesh (25%); the only states\n",
    "in which more than two-thirds of children are breastfed within one hour of birth are Goa, Mizoram, Sikkim, and Odisha "
   ]
  },
  {
   "cell_type": "markdown",
   "metadata": {},
   "source": [
    "Factors: Residence, Mother's education,Drinking water source - no effect, sanitation, anemia in mom, child, "
   ]
  },
  {
   "cell_type": "markdown",
   "metadata": {},
   "source": [
    "https://www.solidaridadnetwork.org/sites/solidaridadnetwork.org/files/publications/Final_Household%20%20Dynamics%20of%20Stunting.pdf\n",
    "\n",
    "Since food security often depends on the availability and financial ability of a household to purchase\n",
    "quality and nutritionally balanced food items it was beneficial to collect information about\n",
    "socioeconomic status and income-earning potential.\n",
    "Indicators of household socioeconomic status may include:\n",
    " Occupation of head of household\n",
    " Average monthly/annual income of head of household\n",
    " Highest level of education achieved by head of household\n",
    " Area of cultivatable land owned by the household\n",
    " Household appliances and features (i.e. electricity, telephone, indoor plumbing, television, etc.)\n",
    " Type of cooking fuel most predominantly used in the household\n",
    " Type of household latrine (if any)"
   ]
  },
  {
   "cell_type": "markdown",
   "metadata": {},
   "source": [
    "https://bmjpaedsopen.bmj.com/content/3/1/e000510\n",
    "Contraceptive use and child stunting"
   ]
  },
  {
   "cell_type": "markdown",
   "metadata": {},
   "source": [
    "https://www.ncbi.nlm.nih.gov/pmc/articles/PMC4919612/#:~:text=Recently%2C%20the%20World%20Health%20Organization,%2D%20and%20middle%2Dincome%20countries.\n",
    "immunisation"
   ]
  },
  {
   "cell_type": "markdown",
   "metadata": {},
   "source": [
    "https://www.nutritionintl.org/content/user_files/2015/05/0139.pdf - Vit A Dose vs Child Stunting"
   ]
  },
  {
   "cell_type": "markdown",
   "metadata": {},
   "source": [
    "https://academic.oup.com/ajcn/article/104/4/1093/4557111 Iodised salt and Child Stunting"
   ]
  },
  {
   "cell_type": "code",
   "execution_count": null,
   "metadata": {},
   "outputs": [],
   "source": []
  }
 ],
 "metadata": {
  "kernelspec": {
   "display_name": "Python 3",
   "language": "python",
   "name": "python3"
  },
  "language_info": {
   "codemirror_mode": {
    "name": "ipython",
    "version": 3
   },
   "file_extension": ".py",
   "mimetype": "text/x-python",
   "name": "python",
   "nbconvert_exporter": "python",
   "pygments_lexer": "ipython3",
   "version": "3.7.4"
  }
 },
 "nbformat": 4,
 "nbformat_minor": 4
}
