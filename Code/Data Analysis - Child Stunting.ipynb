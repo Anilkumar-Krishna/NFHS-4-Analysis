{
 "cells": [
  {
   "cell_type": "markdown",
   "metadata": {},
   "source": [
    "# <font size=14> Women and Child Health: Analysis of NFHS-4 Data </font>\n",
    "National Family Health Survey, 4 (2015-2016) - India\n",
    "\n",
    "- Data for this project has been taken from https://data.gov.in/\n",
    "- Link to the dataset: https://data.gov.in/catalog/key-indicators-national-family-health-survey-nfhs\n",
    "<br> </br>\n",
    "\n"
   ]
  },
  {
   "cell_type": "markdown",
   "metadata": {},
   "source": [
    "# <font size=10> Data Analysis - Factors Affecting Child Stunting </font>\n",
    "\n"
   ]
  },
  {
   "cell_type": "markdown",
   "metadata": {},
   "source": [
    "# 1. Correlation Analysis"
   ]
  },
  {
   "cell_type": "code",
   "execution_count": 1,
   "metadata": {},
   "outputs": [
    {
     "data": {
      "text/plain": [
       "Households surveyed                                                                              0.030930\n",
       "Women age 15-49 years interviewed                                                                0.081941\n",
       "Men age 15-49 years interviewed                                                                 -0.032857\n",
       "1. Population (female) age 6+ years who ever attended school (%)                                -0.581936\n",
       "3. Sex ratio of the total population (females per 1000 males)                                    0.044730\n",
       "4. Sex ratio at birth for children born in the last five years (females per 1000 males)         -0.004436\n",
       "7. Households with an improved drinking-water source1 (%)                                        0.058407\n",
       "8. Households using improved sanitation facility2 (%)                                           -0.620421\n",
       "9. Households using clean fuel for cooking3 (%)                                                 -0.531430\n",
       "12. Women who are literate (%)                                                                  -0.662480\n",
       "13. Men who are literate (%)                                                                    -0.506485\n",
       "14. Women with 10 or more years of schooling (%)                                                -0.595668\n",
       "15. Women age 20-24 years married before age 18 years (%)                                        0.531127\n",
       "19. Any modern method (%)                                                                       -0.291152\n",
       "30. Mothers who had at least 4 antenatal care visits (%)                                        -0.548729\n",
       "32. Mothers who consumed iron folic acid for 100 days or more when they were pregnant (%)       -0.501014\n",
       "40. Institutional births (%)                                                                    -0.395570\n",
       "42. Home delivery conducted by skilled health personnel (out of total deliveries) (%)            0.217222\n",
       "47. Children age 12-23 months fully immunized (BCG measles and 3 doses each of polio/DPT) (%)   -0.310773\n",
       "53. Children age 9-59 months who received a vitamin A dose in last 6 months (%)                 -0.250164\n",
       "62. Children under age 3 years breastfed within one hour of birth8 (%)                          -0.275142\n",
       "65. Breastfeeding children age 6-23 months receiving an adequate diet9 10 (%)                   -0.377136\n",
       "67. Total children age 6-23 months receiving an adequate diet9 10 (%)                           -0.421835\n",
       "68. Children under 5 years who are stunted11 (%)                                                 1.000000\n",
       "72. Women whose Body Mass Index (BMI) is below normal (BMI <18.5 kg/m2) (%)                      0.638427\n",
       "76. Children age 6-59 months who are anaemic (<11.0 g/dl) (%)                                    0.368612\n",
       "79. All women age 15-49 years who are anaemic (%)                                                0.282612\n",
       "91. Cervix (%)                                                                                  -0.268938\n",
       "92. Breast (%)                                                                                  -0.259811\n",
       "93. Oral cavity (%)                                                                             -0.461272\n",
       "Name: 68. Children under 5 years who are stunted11 (%), dtype: float64"
      ]
     },
     "execution_count": 1,
     "metadata": {},
     "output_type": "execute_result"
    }
   ],
   "source": [
    "import pandas as pd\n",
    "import numpy as np\n",
    "import matplotlib.pyplot as plt\n",
    "from matplotlib import rc\n",
    "import seaborn as sns\n",
    "\n",
    "#load normalised data \n",
    "df = pd.read_csv('./../Data/working_data/normalised_data_6.csv')\n",
    "df.drop(df.columns[[0]], axis = 1, inplace = True) \n",
    "\n",
    "pd.set_option('display.max_columns', 30)\n",
    "df.corr()['68. Children under 5 years who are stunted11 (%)']"
   ]
  },
  {
   "cell_type": "code",
   "execution_count": 2,
   "metadata": {},
   "outputs": [],
   "source": [
    "attributes_stunting = ['1. Population (female) age 6+ years who ever attended school (%)' , \n",
    "                       '3. Sex ratio of the total population (females per 1000 males)' , \n",
    "                       '7. Households with an improved drinking-water source1 (%)' , \n",
    " '8. Households using improved sanitation facility2 (%)' , \n",
    " '9. Households using clean fuel for cooking3 (%)' ,\n",
    " '12. Women who are literate (%)',\n",
    " '13. Men who are literate (%)' , \n",
    " '62. Children under age 3 years breastfed within one hour of birth8 (%)',\n",
    " '65. Breastfeeding children age 6-23 months receiving an adequate diet9 10 (%)',\n",
    " '67. Total children age 6-23 months receiving an adequate diet9 10 (%)',\n",
    " '72. Women whose Body Mass Index (BMI) is below normal (BMI <18.5 kg/m2) (%)',\n",
    " '76. Children age 6-59 months who are anaemic (<11.0 g/dl) (%)',\n",
    " '79. All women age 15-49 years who are anaemic (%)',\n",
    " '14. Women with 10 or more years of schooling (%)',\n",
    " '15. Women age 20-24 years married before age 18 years (%)',\n",
    " '19. Any modern method (%)',\n",
    " '30. Mothers who had at least 4 antenatal care visits (%)',\n",
    " '32. Mothers who consumed iron folic acid for 100 days or more when they were pregnant (%)',\n",
    " '47. Children age 12-23 months fully immunized (BCG measles and 3 doses each of polio/DPT) (%)',\n",
    "'68. Children under 5 years who are stunted11 (%)'\n",
    " ]"
   ]
  },
  {
   "cell_type": "code",
   "execution_count": 3,
   "metadata": {},
   "outputs": [
    {
     "data": {
      "text/plain": [
       "20"
      ]
     },
     "execution_count": 3,
     "metadata": {},
     "output_type": "execute_result"
    }
   ],
   "source": [
    "len(attributes_stunting)"
   ]
  },
  {
   "cell_type": "markdown",
   "metadata": {},
   "source": [
    "**It can be observed that women literacy rates, education/schooling of females,  mother's BMI , improved sanitation facilities, clean fuel, men literacy rates, breastfeeding practises, antenatal care, contraceptive awareness are correlated with stunting in children**"
   ]
  },
  {
   "cell_type": "markdown",
   "metadata": {},
   "source": [
    "# 2. DATA ANALYSIS TECHNIQUE: Regression Analysis\n",
    "\n",
    "To determine risk factors for stunting, all the independent variables will be entered into the regression equation first and a full regression model  with  these variables will be developed. The  p-value was observed for each attribute. Then, a new regression model with all variables with p-values less than a suitable threshold shall be developed. The remaining variables will be discarded. This will be performed recursively until all final variables were significant (p-value < 0.05). We will use the stat models library in Python to perform this analysis"
   ]
  },
  {
   "cell_type": "code",
   "execution_count": 4,
   "metadata": {},
   "outputs": [],
   "source": [
    "#importing stat models\n",
    "import statsmodels.api as sm\n",
    "#loading the dataset\n",
    "\n",
    "df = df[attributes_stunting]"
   ]
  },
  {
   "cell_type": "code",
   "execution_count": 5,
   "metadata": {},
   "outputs": [
    {
     "data": {
      "text/html": [
       "<div>\n",
       "<style scoped>\n",
       "    .dataframe tbody tr th:only-of-type {\n",
       "        vertical-align: middle;\n",
       "    }\n",
       "\n",
       "    .dataframe tbody tr th {\n",
       "        vertical-align: top;\n",
       "    }\n",
       "\n",
       "    .dataframe thead th {\n",
       "        text-align: right;\n",
       "    }\n",
       "</style>\n",
       "<table border=\"1\" class=\"dataframe\">\n",
       "  <thead>\n",
       "    <tr style=\"text-align: right;\">\n",
       "      <th></th>\n",
       "      <th>1. Population (female) age 6+ years who ever attended school (%)</th>\n",
       "      <th>3. Sex ratio of the total population (females per 1000 males)</th>\n",
       "      <th>7. Households with an improved drinking-water source1 (%)</th>\n",
       "      <th>8. Households using improved sanitation facility2 (%)</th>\n",
       "      <th>9. Households using clean fuel for cooking3 (%)</th>\n",
       "      <th>12. Women who are literate (%)</th>\n",
       "      <th>13. Men who are literate (%)</th>\n",
       "      <th>62. Children under age 3 years breastfed within one hour of birth8 (%)</th>\n",
       "      <th>65. Breastfeeding children age 6-23 months receiving an adequate diet9 10 (%)</th>\n",
       "      <th>67. Total children age 6-23 months receiving an adequate diet9 10 (%)</th>\n",
       "      <th>72. Women whose Body Mass Index (BMI) is below normal (BMI &lt;18.5 kg/m2) (%)</th>\n",
       "      <th>76. Children age 6-59 months who are anaemic (&lt;11.0 g/dl) (%)</th>\n",
       "      <th>79. All women age 15-49 years who are anaemic (%)</th>\n",
       "      <th>14. Women with 10 or more years of schooling (%)</th>\n",
       "      <th>15. Women age 20-24 years married before age 18 years (%)</th>\n",
       "      <th>19. Any modern method (%)</th>\n",
       "      <th>30. Mothers who had at least 4 antenatal care visits (%)</th>\n",
       "      <th>32. Mothers who consumed iron folic acid for 100 days or more when they were pregnant (%)</th>\n",
       "      <th>47. Children age 12-23 months fully immunized (BCG measles and 3 doses each of polio/DPT) (%)</th>\n",
       "      <th>68. Children under 5 years who are stunted11 (%)</th>\n",
       "    </tr>\n",
       "  </thead>\n",
       "  <tbody>\n",
       "    <tr>\n",
       "      <td>0</td>\n",
       "      <td>1.059982</td>\n",
       "      <td>-0.063858</td>\n",
       "      <td>-3.840965</td>\n",
       "      <td>0.573031</td>\n",
       "      <td>-0.688453</td>\n",
       "      <td>0.828432</td>\n",
       "      <td>0.959826</td>\n",
       "      <td>0.951829</td>\n",
       "      <td>0.846757</td>\n",
       "      <td>0.506149</td>\n",
       "      <td>-1.469430</td>\n",
       "      <td>-2.060529</td>\n",
       "      <td>-2.023470</td>\n",
       "      <td>0.060813</td>\n",
       "      <td>-0.406175</td>\n",
       "      <td>-2.001519</td>\n",
       "      <td>-0.474381</td>\n",
       "      <td>-0.866763</td>\n",
       "      <td>-0.263558</td>\n",
       "      <td>-0.115258</td>\n",
       "    </tr>\n",
       "    <tr>\n",
       "      <td>1</td>\n",
       "      <td>1.094749</td>\n",
       "      <td>-0.106012</td>\n",
       "      <td>-3.915646</td>\n",
       "      <td>0.577244</td>\n",
       "      <td>-0.603557</td>\n",
       "      <td>0.848194</td>\n",
       "      <td>1.003942</td>\n",
       "      <td>0.981102</td>\n",
       "      <td>0.807316</td>\n",
       "      <td>0.459420</td>\n",
       "      <td>-1.501726</td>\n",
       "      <td>-2.091902</td>\n",
       "      <td>-2.031319</td>\n",
       "      <td>0.108006</td>\n",
       "      <td>-0.383987</td>\n",
       "      <td>-1.989506</td>\n",
       "      <td>-0.419613</td>\n",
       "      <td>-0.861424</td>\n",
       "      <td>-0.178036</td>\n",
       "      <td>-0.175236</td>\n",
       "    </tr>\n",
       "    <tr>\n",
       "      <td>2</td>\n",
       "      <td>0.173425</td>\n",
       "      <td>0.385782</td>\n",
       "      <td>-3.818561</td>\n",
       "      <td>0.636217</td>\n",
       "      <td>-1.055049</td>\n",
       "      <td>-0.100413</td>\n",
       "      <td>0.639986</td>\n",
       "      <td>1.420205</td>\n",
       "      <td>1.872223</td>\n",
       "      <td>1.429051</td>\n",
       "      <td>-1.684735</td>\n",
       "      <td>-2.085627</td>\n",
       "      <td>-1.866475</td>\n",
       "      <td>-0.640333</td>\n",
       "      <td>-0.672426</td>\n",
       "      <td>-2.145673</td>\n",
       "      <td>-0.900785</td>\n",
       "      <td>-0.994910</td>\n",
       "      <td>-1.267017</td>\n",
       "      <td>0.274597</td>\n",
       "    </tr>\n",
       "    <tr>\n",
       "      <td>3</td>\n",
       "      <td>0.451560</td>\n",
       "      <td>0.526294</td>\n",
       "      <td>-3.751348</td>\n",
       "      <td>0.678340</td>\n",
       "      <td>-0.846668</td>\n",
       "      <td>0.116976</td>\n",
       "      <td>0.728218</td>\n",
       "      <td>1.461187</td>\n",
       "      <td>2.056281</td>\n",
       "      <td>1.744474</td>\n",
       "      <td>-1.587848</td>\n",
       "      <td>-2.085627</td>\n",
       "      <td>-1.882174</td>\n",
       "      <td>-0.370662</td>\n",
       "      <td>-0.650239</td>\n",
       "      <td>-2.103628</td>\n",
       "      <td>-0.685627</td>\n",
       "      <td>-0.781332</td>\n",
       "      <td>-1.016152</td>\n",
       "      <td>0.034686</td>\n",
       "    </tr>\n",
       "    <tr>\n",
       "      <td>4</td>\n",
       "      <td>1.033906</td>\n",
       "      <td>-0.021704</td>\n",
       "      <td>-2.855180</td>\n",
       "      <td>0.846835</td>\n",
       "      <td>0.206815</td>\n",
       "      <td>0.900895</td>\n",
       "      <td>1.014971</td>\n",
       "      <td>1.080632</td>\n",
       "      <td>0.662699</td>\n",
       "      <td>0.108950</td>\n",
       "      <td>-1.587848</td>\n",
       "      <td>-2.367984</td>\n",
       "      <td>-2.408107</td>\n",
       "      <td>0.269809</td>\n",
       "      <td>-0.783364</td>\n",
       "      <td>-1.755255</td>\n",
       "      <td>0.339308</td>\n",
       "      <td>-0.583772</td>\n",
       "      <td>-0.554333</td>\n",
       "      <td>0.004697</td>\n",
       "    </tr>\n",
       "    <tr>\n",
       "      <td>...</td>\n",
       "      <td>...</td>\n",
       "      <td>...</td>\n",
       "      <td>...</td>\n",
       "      <td>...</td>\n",
       "      <td>...</td>\n",
       "      <td>...</td>\n",
       "      <td>...</td>\n",
       "      <td>...</td>\n",
       "      <td>...</td>\n",
       "      <td>...</td>\n",
       "      <td>...</td>\n",
       "      <td>...</td>\n",
       "      <td>...</td>\n",
       "      <td>...</td>\n",
       "      <td>...</td>\n",
       "      <td>...</td>\n",
       "      <td>...</td>\n",
       "      <td>...</td>\n",
       "      <td>...</td>\n",
       "      <td>...</td>\n",
       "    </tr>\n",
       "    <tr>\n",
       "      <td>1287</td>\n",
       "      <td>2.120373</td>\n",
       "      <td>0.048552</td>\n",
       "      <td>-0.472866</td>\n",
       "      <td>0.842623</td>\n",
       "      <td>1.920172</td>\n",
       "      <td>1.697989</td>\n",
       "      <td>0.617928</td>\n",
       "      <td>0.044351</td>\n",
       "      <td>3.673362</td>\n",
       "      <td>3.228127</td>\n",
       "      <td>-1.329482</td>\n",
       "      <td>-1.790722</td>\n",
       "      <td>-2.541552</td>\n",
       "      <td>2.009192</td>\n",
       "      <td>-1.715245</td>\n",
       "      <td>-1.004452</td>\n",
       "      <td>-0.411789</td>\n",
       "      <td>-1.096360</td>\n",
       "      <td>0.107038</td>\n",
       "      <td>-1.604703</td>\n",
       "    </tr>\n",
       "    <tr>\n",
       "      <td>1288</td>\n",
       "      <td>0.929606</td>\n",
       "      <td>0.132859</td>\n",
       "      <td>-0.779057</td>\n",
       "      <td>1.162763</td>\n",
       "      <td>-0.781067</td>\n",
       "      <td>1.105109</td>\n",
       "      <td>0.176768</td>\n",
       "      <td>0.582983</td>\n",
       "      <td>1.977399</td>\n",
       "      <td>1.499145</td>\n",
       "      <td>-1.297186</td>\n",
       "      <td>-1.696603</td>\n",
       "      <td>-2.321760</td>\n",
       "      <td>-0.492014</td>\n",
       "      <td>-1.537744</td>\n",
       "      <td>-1.358831</td>\n",
       "      <td>-1.182446</td>\n",
       "      <td>-1.203148</td>\n",
       "      <td>-0.280662</td>\n",
       "      <td>-0.805001</td>\n",
       "    </tr>\n",
       "    <tr>\n",
       "      <td>1289</td>\n",
       "      <td>1.624944</td>\n",
       "      <td>0.090706</td>\n",
       "      <td>-0.599823</td>\n",
       "      <td>0.977418</td>\n",
       "      <td>0.808805</td>\n",
       "      <td>1.480599</td>\n",
       "      <td>0.507638</td>\n",
       "      <td>0.313667</td>\n",
       "      <td>2.661043</td>\n",
       "      <td>2.316907</td>\n",
       "      <td>-1.318717</td>\n",
       "      <td>-1.740525</td>\n",
       "      <td>-2.463055</td>\n",
       "      <td>1.078825</td>\n",
       "      <td>-1.663474</td>\n",
       "      <td>-1.154612</td>\n",
       "      <td>-0.771690</td>\n",
       "      <td>-1.144415</td>\n",
       "      <td>-0.075409</td>\n",
       "      <td>-1.204852</td>\n",
       "    </tr>\n",
       "    <tr>\n",
       "      <td>1290</td>\n",
       "      <td>0.703621</td>\n",
       "      <td>-0.471344</td>\n",
       "      <td>-1.742438</td>\n",
       "      <td>1.162763</td>\n",
       "      <td>-0.900693</td>\n",
       "      <td>0.340953</td>\n",
       "      <td>0.121623</td>\n",
       "      <td>-0.055179</td>\n",
       "      <td>0.544376</td>\n",
       "      <td>0.494467</td>\n",
       "      <td>-1.652439</td>\n",
       "      <td>-2.568771</td>\n",
       "      <td>-2.470905</td>\n",
       "      <td>-1.038099</td>\n",
       "      <td>0.385184</td>\n",
       "      <td>-1.100554</td>\n",
       "      <td>-1.452372</td>\n",
       "      <td>-1.128396</td>\n",
       "      <td>-0.542930</td>\n",
       "      <td>-0.675049</td>\n",
       "    </tr>\n",
       "    <tr>\n",
       "      <td>1291</td>\n",
       "      <td>0.990448</td>\n",
       "      <td>-0.021704</td>\n",
       "      <td>-2.003820</td>\n",
       "      <td>1.192249</td>\n",
       "      <td>-0.684594</td>\n",
       "      <td>0.617630</td>\n",
       "      <td>0.496609</td>\n",
       "      <td>0.097043</td>\n",
       "      <td>0.478641</td>\n",
       "      <td>0.704748</td>\n",
       "      <td>-1.684735</td>\n",
       "      <td>-2.656615</td>\n",
       "      <td>-2.627900</td>\n",
       "      <td>-0.653817</td>\n",
       "      <td>0.081953</td>\n",
       "      <td>-1.082535</td>\n",
       "      <td>-1.448460</td>\n",
       "      <td>-1.203148</td>\n",
       "      <td>-0.725377</td>\n",
       "      <td>-0.695042</td>\n",
       "    </tr>\n",
       "  </tbody>\n",
       "</table>\n",
       "<p>1292 rows × 20 columns</p>\n",
       "</div>"
      ],
      "text/plain": [
       "      1. Population (female) age 6+ years who ever attended school (%)  \\\n",
       "0                                              1.059982                  \n",
       "1                                              1.094749                  \n",
       "2                                              0.173425                  \n",
       "3                                              0.451560                  \n",
       "4                                              1.033906                  \n",
       "...                                                 ...                  \n",
       "1287                                           2.120373                  \n",
       "1288                                           0.929606                  \n",
       "1289                                           1.624944                  \n",
       "1290                                           0.703621                  \n",
       "1291                                           0.990448                  \n",
       "\n",
       "      3. Sex ratio of the total population (females per 1000 males)  \\\n",
       "0                                             -0.063858               \n",
       "1                                             -0.106012               \n",
       "2                                              0.385782               \n",
       "3                                              0.526294               \n",
       "4                                             -0.021704               \n",
       "...                                                 ...               \n",
       "1287                                           0.048552               \n",
       "1288                                           0.132859               \n",
       "1289                                           0.090706               \n",
       "1290                                          -0.471344               \n",
       "1291                                          -0.021704               \n",
       "\n",
       "      7. Households with an improved drinking-water source1 (%)  \\\n",
       "0                                             -3.840965           \n",
       "1                                             -3.915646           \n",
       "2                                             -3.818561           \n",
       "3                                             -3.751348           \n",
       "4                                             -2.855180           \n",
       "...                                                 ...           \n",
       "1287                                          -0.472866           \n",
       "1288                                          -0.779057           \n",
       "1289                                          -0.599823           \n",
       "1290                                          -1.742438           \n",
       "1291                                          -2.003820           \n",
       "\n",
       "      8. Households using improved sanitation facility2 (%)  \\\n",
       "0                                              0.573031       \n",
       "1                                              0.577244       \n",
       "2                                              0.636217       \n",
       "3                                              0.678340       \n",
       "4                                              0.846835       \n",
       "...                                                 ...       \n",
       "1287                                           0.842623       \n",
       "1288                                           1.162763       \n",
       "1289                                           0.977418       \n",
       "1290                                           1.162763       \n",
       "1291                                           1.192249       \n",
       "\n",
       "      9. Households using clean fuel for cooking3 (%)  \\\n",
       "0                                           -0.688453   \n",
       "1                                           -0.603557   \n",
       "2                                           -1.055049   \n",
       "3                                           -0.846668   \n",
       "4                                            0.206815   \n",
       "...                                               ...   \n",
       "1287                                         1.920172   \n",
       "1288                                        -0.781067   \n",
       "1289                                         0.808805   \n",
       "1290                                        -0.900693   \n",
       "1291                                        -0.684594   \n",
       "\n",
       "      12. Women who are literate (%)  13. Men who are literate (%)  \\\n",
       "0                           0.828432                      0.959826   \n",
       "1                           0.848194                      1.003942   \n",
       "2                          -0.100413                      0.639986   \n",
       "3                           0.116976                      0.728218   \n",
       "4                           0.900895                      1.014971   \n",
       "...                              ...                           ...   \n",
       "1287                        1.697989                      0.617928   \n",
       "1288                        1.105109                      0.176768   \n",
       "1289                        1.480599                      0.507638   \n",
       "1290                        0.340953                      0.121623   \n",
       "1291                        0.617630                      0.496609   \n",
       "\n",
       "      62. Children under age 3 years breastfed within one hour of birth8 (%)  \\\n",
       "0                                              0.951829                        \n",
       "1                                              0.981102                        \n",
       "2                                              1.420205                        \n",
       "3                                              1.461187                        \n",
       "4                                              1.080632                        \n",
       "...                                                 ...                        \n",
       "1287                                           0.044351                        \n",
       "1288                                           0.582983                        \n",
       "1289                                           0.313667                        \n",
       "1290                                          -0.055179                        \n",
       "1291                                           0.097043                        \n",
       "\n",
       "      65. Breastfeeding children age 6-23 months receiving an adequate diet9 10 (%)  \\\n",
       "0                                              0.846757                               \n",
       "1                                              0.807316                               \n",
       "2                                              1.872223                               \n",
       "3                                              2.056281                               \n",
       "4                                              0.662699                               \n",
       "...                                                 ...                               \n",
       "1287                                           3.673362                               \n",
       "1288                                           1.977399                               \n",
       "1289                                           2.661043                               \n",
       "1290                                           0.544376                               \n",
       "1291                                           0.478641                               \n",
       "\n",
       "      67. Total children age 6-23 months receiving an adequate diet9 10 (%)  \\\n",
       "0                                              0.506149                       \n",
       "1                                              0.459420                       \n",
       "2                                              1.429051                       \n",
       "3                                              1.744474                       \n",
       "4                                              0.108950                       \n",
       "...                                                 ...                       \n",
       "1287                                           3.228127                       \n",
       "1288                                           1.499145                       \n",
       "1289                                           2.316907                       \n",
       "1290                                           0.494467                       \n",
       "1291                                           0.704748                       \n",
       "\n",
       "      72. Women whose Body Mass Index (BMI) is below normal (BMI <18.5 kg/m2) (%)  \\\n",
       "0                                             -1.469430                             \n",
       "1                                             -1.501726                             \n",
       "2                                             -1.684735                             \n",
       "3                                             -1.587848                             \n",
       "4                                             -1.587848                             \n",
       "...                                                 ...                             \n",
       "1287                                          -1.329482                             \n",
       "1288                                          -1.297186                             \n",
       "1289                                          -1.318717                             \n",
       "1290                                          -1.652439                             \n",
       "1291                                          -1.684735                             \n",
       "\n",
       "      76. Children age 6-59 months who are anaemic (<11.0 g/dl) (%)  \\\n",
       "0                                             -2.060529               \n",
       "1                                             -2.091902               \n",
       "2                                             -2.085627               \n",
       "3                                             -2.085627               \n",
       "4                                             -2.367984               \n",
       "...                                                 ...               \n",
       "1287                                          -1.790722               \n",
       "1288                                          -1.696603               \n",
       "1289                                          -1.740525               \n",
       "1290                                          -2.568771               \n",
       "1291                                          -2.656615               \n",
       "\n",
       "      79. All women age 15-49 years who are anaemic (%)  \\\n",
       "0                                             -2.023470   \n",
       "1                                             -2.031319   \n",
       "2                                             -1.866475   \n",
       "3                                             -1.882174   \n",
       "4                                             -2.408107   \n",
       "...                                                 ...   \n",
       "1287                                          -2.541552   \n",
       "1288                                          -2.321760   \n",
       "1289                                          -2.463055   \n",
       "1290                                          -2.470905   \n",
       "1291                                          -2.627900   \n",
       "\n",
       "      14. Women with 10 or more years of schooling (%)  \\\n",
       "0                                             0.060813   \n",
       "1                                             0.108006   \n",
       "2                                            -0.640333   \n",
       "3                                            -0.370662   \n",
       "4                                             0.269809   \n",
       "...                                                ...   \n",
       "1287                                          2.009192   \n",
       "1288                                         -0.492014   \n",
       "1289                                          1.078825   \n",
       "1290                                         -1.038099   \n",
       "1291                                         -0.653817   \n",
       "\n",
       "      15. Women age 20-24 years married before age 18 years (%)  \\\n",
       "0                                             -0.406175           \n",
       "1                                             -0.383987           \n",
       "2                                             -0.672426           \n",
       "3                                             -0.650239           \n",
       "4                                             -0.783364           \n",
       "...                                                 ...           \n",
       "1287                                          -1.715245           \n",
       "1288                                          -1.537744           \n",
       "1289                                          -1.663474           \n",
       "1290                                           0.385184           \n",
       "1291                                           0.081953           \n",
       "\n",
       "      19. Any modern method (%)  \\\n",
       "0                     -2.001519   \n",
       "1                     -1.989506   \n",
       "2                     -2.145673   \n",
       "3                     -2.103628   \n",
       "4                     -1.755255   \n",
       "...                         ...   \n",
       "1287                  -1.004452   \n",
       "1288                  -1.358831   \n",
       "1289                  -1.154612   \n",
       "1290                  -1.100554   \n",
       "1291                  -1.082535   \n",
       "\n",
       "      30. Mothers who had at least 4 antenatal care visits (%)  \\\n",
       "0                                             -0.474381          \n",
       "1                                             -0.419613          \n",
       "2                                             -0.900785          \n",
       "3                                             -0.685627          \n",
       "4                                              0.339308          \n",
       "...                                                 ...          \n",
       "1287                                          -0.411789          \n",
       "1288                                          -1.182446          \n",
       "1289                                          -0.771690          \n",
       "1290                                          -1.452372          \n",
       "1291                                          -1.448460          \n",
       "\n",
       "      32. Mothers who consumed iron folic acid for 100 days or more when they were pregnant (%)  \\\n",
       "0                                             -0.866763                                           \n",
       "1                                             -0.861424                                           \n",
       "2                                             -0.994910                                           \n",
       "3                                             -0.781332                                           \n",
       "4                                             -0.583772                                           \n",
       "...                                                 ...                                           \n",
       "1287                                          -1.096360                                           \n",
       "1288                                          -1.203148                                           \n",
       "1289                                          -1.144415                                           \n",
       "1290                                          -1.128396                                           \n",
       "1291                                          -1.203148                                           \n",
       "\n",
       "      47. Children age 12-23 months fully immunized (BCG measles and 3 doses each of polio/DPT) (%)  \\\n",
       "0                                             -0.263558                                               \n",
       "1                                             -0.178036                                               \n",
       "2                                             -1.267017                                               \n",
       "3                                             -1.016152                                               \n",
       "4                                             -0.554333                                               \n",
       "...                                                 ...                                               \n",
       "1287                                           0.107038                                               \n",
       "1288                                          -0.280662                                               \n",
       "1289                                          -0.075409                                               \n",
       "1290                                          -0.542930                                               \n",
       "1291                                          -0.725377                                               \n",
       "\n",
       "      68. Children under 5 years who are stunted11 (%)  \n",
       "0                                            -0.115258  \n",
       "1                                            -0.175236  \n",
       "2                                             0.274597  \n",
       "3                                             0.034686  \n",
       "4                                             0.004697  \n",
       "...                                                ...  \n",
       "1287                                         -1.604703  \n",
       "1288                                         -0.805001  \n",
       "1289                                         -1.204852  \n",
       "1290                                         -0.675049  \n",
       "1291                                         -0.695042  \n",
       "\n",
       "[1292 rows x 20 columns]"
      ]
     },
     "execution_count": 5,
     "metadata": {},
     "output_type": "execute_result"
    }
   ],
   "source": [
    "df"
   ]
  },
  {
   "cell_type": "code",
   "execution_count": 6,
   "metadata": {},
   "outputs": [],
   "source": [
    "X = df.copy(deep='True')\n",
    "# X: independent variable\n",
    "X = X.drop(columns = ['68. Children under 5 years who are stunted11 (%)'])\n",
    "Xcpy = X.copy(deep= 'True')\n",
    "#y: dependent variable\n",
    "y = df['68. Children under 5 years who are stunted11 (%)']\n",
    "\n",
    "#convert to numpy\n",
    "y=y.values\n",
    "X=X.values"
   ]
  },
  {
   "cell_type": "markdown",
   "metadata": {},
   "source": [
    "## 2.1 Full Regression Model (All variables)"
   ]
  },
  {
   "cell_type": "code",
   "execution_count": 7,
   "metadata": {},
   "outputs": [
    {
     "name": "stdout",
     "output_type": "stream",
     "text": [
      "                            OLS Regression Results                            \n",
      "==============================================================================\n",
      "Dep. Variable:                      y   R-squared:                       0.632\n",
      "Model:                            OLS   Adj. R-squared:                  0.626\n",
      "Method:                 Least Squares   F-statistic:                     114.8\n",
      "Date:                Sat, 25 Apr 2020   Prob (F-statistic):          1.72e-259\n",
      "Time:                        22:54:22   Log-Likelihood:                -1187.6\n",
      "No. Observations:                1292   AIC:                             2415.\n",
      "Df Residuals:                    1272   BIC:                             2518.\n",
      "Df Model:                          19                                         \n",
      "Covariance Type:            nonrobust                                         \n",
      "==============================================================================\n",
      "                 coef    std err          t      P>|t|      [0.025      0.975]\n",
      "------------------------------------------------------------------------------\n",
      "const       7.066e-15      0.017   4.15e-13      1.000      -0.033       0.033\n",
      "x1             0.3355      0.062      5.375      0.000       0.213       0.458\n",
      "x2            -0.0789      0.021     -3.701      0.000      -0.121      -0.037\n",
      "x3             0.0983      0.018      5.353      0.000       0.062       0.134\n",
      "x4            -0.1948      0.031     -6.247      0.000      -0.256      -0.134\n",
      "x5            -0.0704      0.034     -2.075      0.038      -0.137      -0.004\n",
      "x6            -0.4259      0.082     -5.222      0.000      -0.586      -0.266\n",
      "x7            -0.0351      0.029     -1.226      0.221      -0.091       0.021\n",
      "x8             0.0010      0.023      0.044      0.965      -0.045       0.047\n",
      "x9             0.0550      0.046      1.187      0.236      -0.036       0.146\n",
      "x10           -0.1913      0.047     -4.061      0.000      -0.284      -0.099\n",
      "x11            0.2285      0.031      7.293      0.000       0.167       0.290\n",
      "x12            0.1678      0.032      5.294      0.000       0.106       0.230\n",
      "x13           -0.0818      0.029     -2.798      0.005      -0.139      -0.024\n",
      "x14            0.0048      0.042      0.115      0.908      -0.077       0.087\n",
      "x15            0.0562      0.025      2.256      0.024       0.007       0.105\n",
      "x16           -0.1361      0.025     -5.386      0.000      -0.186      -0.087\n",
      "x17           -0.1462      0.034     -4.303      0.000      -0.213      -0.080\n",
      "x18            0.0513      0.032      1.620      0.105      -0.011       0.113\n",
      "x19           -0.0036      0.023     -0.153      0.879      -0.050       0.042\n",
      "==============================================================================\n",
      "Omnibus:                       47.306   Durbin-Watson:                   0.825\n",
      "Prob(Omnibus):                  0.000   Jarque-Bera (JB):               58.040\n",
      "Skew:                           0.403   Prob(JB):                     2.49e-13\n",
      "Kurtosis:                       3.656   Cond. No.                         15.9\n",
      "==============================================================================\n",
      "\n",
      "Warnings:\n",
      "[1] Standard Errors assume that the covariance matrix of the errors is correctly specified.\n"
     ]
    }
   ],
   "source": [
    "X2 = sm.add_constant(X)\n",
    "est = sm.OLS(y, X2)\n",
    "est2 = est.fit()\n",
    "print(est2.summary())"
   ]
  },
  {
   "cell_type": "markdown",
   "metadata": {},
   "source": [
    "**It can be observed that variables x7,x8,x9,x14,x18,x19 have p-values higher than 0.05(=threshold)**"
   ]
  },
  {
   "cell_type": "code",
   "execution_count": 8,
   "metadata": {},
   "outputs": [],
   "source": [
    "#drop insignificant variables\n",
    "Xcpy.drop(Xcpy.columns[[6,7,8,13,17,18]], axis = 1, inplace = True) \n"
   ]
  },
  {
   "cell_type": "markdown",
   "metadata": {},
   "source": [
    "### Variables that still remain:"
   ]
  },
  {
   "cell_type": "code",
   "execution_count": 9,
   "metadata": {},
   "outputs": [
    {
     "data": {
      "text/plain": [
       "Index(['1. Population (female) age 6+ years who ever attended school (%)',\n",
       "       '3. Sex ratio of the total population (females per 1000 males)',\n",
       "       '7. Households with an improved drinking-water source1 (%)',\n",
       "       '8. Households using improved sanitation facility2 (%)',\n",
       "       '9. Households using clean fuel for cooking3 (%)',\n",
       "       '12. Women who are literate (%)',\n",
       "       '67. Total children age 6-23 months receiving an adequate diet9 10 (%)',\n",
       "       '72. Women whose Body Mass Index (BMI) is below normal (BMI <18.5 kg/m2) (%)',\n",
       "       '76. Children age 6-59 months who are anaemic (<11.0 g/dl) (%)',\n",
       "       '79. All women age 15-49 years who are anaemic (%)',\n",
       "       '15. Women age 20-24 years married before age 18 years (%)',\n",
       "       '19. Any modern method (%)',\n",
       "       '30. Mothers who had at least 4 antenatal care visits (%)'],\n",
       "      dtype='object')"
      ]
     },
     "execution_count": 9,
     "metadata": {},
     "output_type": "execute_result"
    }
   ],
   "source": [
    "\n",
    "Xcpy.columns"
   ]
  },
  {
   "cell_type": "code",
   "execution_count": 10,
   "metadata": {},
   "outputs": [
    {
     "data": {
      "text/plain": [
       "13"
      ]
     },
     "execution_count": 10,
     "metadata": {},
     "output_type": "execute_result"
    }
   ],
   "source": [
    "len(Xcpy.columns)"
   ]
  },
  {
   "cell_type": "code",
   "execution_count": 11,
   "metadata": {},
   "outputs": [],
   "source": [
    "X = Xcpy.copy(deep= 'True')\n",
    "X=X.values"
   ]
  },
  {
   "cell_type": "markdown",
   "metadata": {},
   "source": [
    "## 2.2 Second Regression Model (Selected variables)"
   ]
  },
  {
   "cell_type": "code",
   "execution_count": 12,
   "metadata": {},
   "outputs": [
    {
     "name": "stdout",
     "output_type": "stream",
     "text": [
      "                            OLS Regression Results                            \n",
      "==============================================================================\n",
      "Dep. Variable:                      y   R-squared:                       0.630\n",
      "Model:                            OLS   Adj. R-squared:                  0.626\n",
      "Method:                 Least Squares   F-statistic:                     167.3\n",
      "Date:                Sat, 25 Apr 2020   Prob (F-statistic):          1.12e-264\n",
      "Time:                        22:54:22   Log-Likelihood:                -1190.7\n",
      "No. Observations:                1292   AIC:                             2409.\n",
      "Df Residuals:                    1278   BIC:                             2482.\n",
      "Df Model:                          13                                         \n",
      "Covariance Type:            nonrobust                                         \n",
      "==============================================================================\n",
      "                 coef    std err          t      P>|t|      [0.025      0.975]\n",
      "------------------------------------------------------------------------------\n",
      "const       6.548e-15      0.017   3.85e-13      1.000      -0.033       0.033\n",
      "x1             0.3584      0.061      5.907      0.000       0.239       0.477\n",
      "x2            -0.0759      0.020     -3.746      0.000      -0.116      -0.036\n",
      "x3             0.0940      0.018      5.233      0.000       0.059       0.129\n",
      "x4            -0.1865      0.031     -6.056      0.000      -0.247      -0.126\n",
      "x5            -0.0747      0.027     -2.755      0.006      -0.128      -0.022\n",
      "x6            -0.4648      0.068     -6.837      0.000      -0.598      -0.331\n",
      "x7            -0.1365      0.022     -6.282      0.000      -0.179      -0.094\n",
      "x8             0.2269      0.031      7.364      0.000       0.166       0.287\n",
      "x9             0.1656      0.030      5.509      0.000       0.107       0.225\n",
      "x10           -0.0743      0.028     -2.669      0.008      -0.129      -0.020\n",
      "x11            0.0529      0.024      2.193      0.028       0.006       0.100\n",
      "x12           -0.1323      0.024     -5.537      0.000      -0.179      -0.085\n",
      "x13           -0.1165      0.027     -4.263      0.000      -0.170      -0.063\n",
      "==============================================================================\n",
      "Omnibus:                       52.639   Durbin-Watson:                   0.819\n",
      "Prob(Omnibus):                  0.000   Jarque-Bera (JB):               68.281\n",
      "Skew:                           0.413   Prob(JB):                     1.49e-15\n",
      "Kurtosis:                       3.766   Cond. No.                         12.0\n",
      "==============================================================================\n",
      "\n",
      "Warnings:\n",
      "[1] Standard Errors assume that the covariance matrix of the errors is correctly specified.\n"
     ]
    }
   ],
   "source": [
    "X2 = sm.add_constant(X)\n",
    "est = sm.OLS(y, X2)\n",
    "est2 = est.fit()\n",
    "print(est2.summary())"
   ]
  },
  {
   "cell_type": "markdown",
   "metadata": {},
   "source": [
    "**In this model, no variable has a p-vlaue > 0.05. So we stop here. The variables that remain are:** "
   ]
  },
  {
   "cell_type": "code",
   "execution_count": 13,
   "metadata": {},
   "outputs": [
    {
     "data": {
      "text/plain": [
       "Index(['1. Population (female) age 6+ years who ever attended school (%)',\n",
       "       '3. Sex ratio of the total population (females per 1000 males)',\n",
       "       '7. Households with an improved drinking-water source1 (%)',\n",
       "       '8. Households using improved sanitation facility2 (%)',\n",
       "       '9. Households using clean fuel for cooking3 (%)',\n",
       "       '12. Women who are literate (%)',\n",
       "       '67. Total children age 6-23 months receiving an adequate diet9 10 (%)',\n",
       "       '72. Women whose Body Mass Index (BMI) is below normal (BMI <18.5 kg/m2) (%)',\n",
       "       '76. Children age 6-59 months who are anaemic (<11.0 g/dl) (%)',\n",
       "       '79. All women age 15-49 years who are anaemic (%)',\n",
       "       '15. Women age 20-24 years married before age 18 years (%)',\n",
       "       '19. Any modern method (%)',\n",
       "       '30. Mothers who had at least 4 antenatal care visits (%)'],\n",
       "      dtype='object')"
      ]
     },
     "execution_count": 13,
     "metadata": {},
     "output_type": "execute_result"
    }
   ],
   "source": [
    "\n",
    "Xcpy.columns"
   ]
  },
  {
   "cell_type": "code",
   "execution_count": 14,
   "metadata": {},
   "outputs": [
    {
     "data": {
      "text/plain": [
       "13"
      ]
     },
     "execution_count": 14,
     "metadata": {},
     "output_type": "execute_result"
    }
   ],
   "source": [
    "len(Xcpy.columns)"
   ]
  },
  {
   "cell_type": "markdown",
   "metadata": {},
   "source": [
    "** From the coefficients of regression ('coef'), it can be observed that the following variables are positively related to increased child stunting: x1,x3,x8,x9,x11\n",
    "- 1. Population (female) age 6+ years who ever attended school (%)\n",
    "- 7. Households with an improved drinking-water source1 (%)\n",
    "- 72. Women whose Body Mass Index (BMI) is below normal (BMI <18.5 kg/m2) (%)\n",
    "- 79. All women age 15-49 years who are anaemic (%)\n",
    "<br> \n",
    "\n",
    "The following are negatively related to increased child stunting: x2,x4,x5,x6,x7,x10,x12,x13\n",
    "\n",
    "- '3. Sex ratio of the total population (females per 1000 males)'\n",
    "- 8. Households using improved sanitation facility2 (%)'\n",
    "- '9. Households using clean fuel for cooking3 (%)'\n",
    "- '12. Women who are literate (%)'\n",
    "- '67. Total children age 6-23 months receiving an adequate diet9 10 (%)'\n",
    "\n",
    "However, these results might be biased due to problems of multicollinearity,which is common in multivariate regression.\n",
    "The effect of these variables will be further studied using clustering analysis and association rule mining.\n",
    "\n",
    "On the basis of a literature review, a few other, interesting variables have been added to this list of variables so that their effect on child stunting can also be studied. They are:\n",
    "\n",
    "- '13. Men who are literate (%)'\n",
    "- '62. Children under age 3 years breastfed within one hour of birth8 (%)'\n",
    "- '32. Mothers who consumed iron folic acid for 100 days or more when they were pregnant (%)',\n",
    "\n",
    "\n",
    "\n",
    "\n",
    "\n",
    "\n"
   ]
  },
  {
   "cell_type": "code",
   "execution_count": 15,
   "metadata": {},
   "outputs": [],
   "source": [
    "attributes_stunting = ['1. Population (female) age 6+ years who ever attended school (%)',\n",
    "       '3. Sex ratio of the total population (females per 1000 males)',\n",
    "       '7. Households with an improved drinking-water source1 (%)',\n",
    "       '8. Households using improved sanitation facility2 (%)',\n",
    "       '9. Households using clean fuel for cooking3 (%)',\n",
    "       '12. Women who are literate (%)',\n",
    "       '67. Total children age 6-23 months receiving an adequate diet9 10 (%)',\n",
    "       '72. Women whose Body Mass Index (BMI) is below normal (BMI <18.5 kg/m2) (%)',\n",
    "       '76. Children age 6-59 months who are anaemic (<11.0 g/dl) (%)',\n",
    "       '79. All women age 15-49 years who are anaemic (%)',\n",
    "       '15. Women age 20-24 years married before age 18 years (%)',\n",
    "       '19. Any modern method (%)',\n",
    "       '30. Mothers who had at least 4 antenatal care visits (%)',\n",
    "              '13. Men who are literate (%)',\n",
    "'62. Children under age 3 years breastfed within one hour of birth8 (%)',\n",
    "'32. Mothers who consumed iron folic acid for 100 days or more when they were pregnant (%)']\n"
   ]
  },
  {
   "cell_type": "code",
   "execution_count": 16,
   "metadata": {},
   "outputs": [
    {
     "data": {
      "text/plain": [
       "16"
      ]
     },
     "execution_count": 16,
     "metadata": {},
     "output_type": "execute_result"
    }
   ],
   "source": [
    "len(attributes_stunting)"
   ]
  },
  {
   "cell_type": "markdown",
   "metadata": {},
   "source": [
    "**Total number of attributes: 18**"
   ]
  },
  {
   "cell_type": "markdown",
   "metadata": {},
   "source": [
    "# 2. Clustering Analysis to identify factors that affect child stunting"
   ]
  },
  {
   "cell_type": "markdown",
   "metadata": {},
   "source": [
    "## 2.1 K-Means Clustering Implementation"
   ]
  },
  {
   "cell_type": "code",
   "execution_count": 17,
   "metadata": {},
   "outputs": [],
   "source": [
    "\n",
    "\n",
    "#function to assign clusters\n",
    "def AssignClusters(df,centroids):\n",
    "  assigned_clusters={}\n",
    "  N = df.shape[0]\n",
    "  k = len(centroids.keys())\n",
    "  for i in range(N):\n",
    "    distances={}\n",
    "    for j in range(k):\n",
    "      distances[j+1]=np.linalg.norm(df.iloc[i].to_numpy()-centroids[j+1])\n",
    "    minval = min(distances.values())\n",
    "    res = [k for k, v in distances.items() if v==minval]\n",
    "    assigned_clusters[i]=res[0]\n",
    "    distances.clear()\n",
    "\n",
    "  return assigned_clusters\n",
    "\n",
    "def centeroidnp(arr):\n",
    "    length, dim = arr.shape\n",
    "    return np.array([np.sum(arr[:, i])/length for i in range(dim)])\n",
    "\n",
    "#function to update centroids\n",
    "def update(df,l,assigned_clusters):\n",
    "\n",
    "  N = len(assigned_clusters.keys())\n",
    "  k = len(l.keys())\n",
    "  for j in range(k):\n",
    "    datapoints=[]\n",
    "    for i in range(N):\n",
    "      if(assigned_clusters[i]==j+1):\n",
    "        datapoints.append(df.iloc[i].tolist())\n",
    "    datapointsArray = np.asarray(datapoints)\n",
    "    \n",
    "    l[j+1]=centeroidnp(datapointsArray).tolist()\n",
    "\n",
    "  return l\n",
    "\n",
    "#Function to perform K means clustering on the data frame df and the desired number of clusters = num_clusters\n",
    "def KMeansClustering(df, num_clusters):\n",
    "    #N is the number of samples\n",
    "    #D is the number of features\n",
    "    N, D = df.shape\n",
    "    \n",
    "    np.random.seed(450)\n",
    "    k = num_clusters\n",
    "\n",
    "    \n",
    "    # centroids[i] = [x1,x2,x3 . .. . .. . xD]\n",
    "    centroids = {\n",
    "    \n",
    "        i+1 : df.iloc[np.random.randint(0,N)].tolist()\n",
    "        for i in range(k)\n",
    "\n",
    "    }\n",
    "    #centroids contains K randomly selected data points \n",
    "  \n",
    "\n",
    "    #Assign clusters to each data point.\n",
    "    assigned_clusters=AssignClusters(df,centroids)\n",
    " \n",
    "    #Update Centroids\n",
    "    centroids=update(df,centroids,assigned_clusters)\n",
    "    \n",
    "    #Repeating assignment stage...\n",
    "    assigned_clusters=AssignClusters(df,centroids)\n",
    "    \n",
    "    itr = 0\n",
    "    while True:\n",
    "      clusters=assigned_clusters.copy()\n",
    "    \n",
    "      centroids = update(df,centroids,assigned_clusters)\n",
    "        \n",
    "      assigned_clusters = AssignClusters(df, centroids)\n",
    " \n",
    "      if(clusters==assigned_clusters or itr==1000):\n",
    "        break\n",
    "        \n",
    "      itr+=1\n",
    "\n",
    "    return list(clusters.values()), list(centroids.values())"
   ]
  },
  {
   "cell_type": "markdown",
   "metadata": {},
   "source": [
    "## 2.2 Loading the required dataframes"
   ]
  },
  {
   "cell_type": "code",
   "execution_count": 18,
   "metadata": {},
   "outputs": [
    {
     "data": {
      "text/plain": [
       "Index(['1. Population (female) age 6+ years who ever attended school (%)',\n",
       "       '3. Sex ratio of the total population (females per 1000 males)',\n",
       "       '7. Households with an improved drinking-water source1 (%)',\n",
       "       '8. Households using improved sanitation facility2 (%)',\n",
       "       '9. Households using clean fuel for cooking3 (%)',\n",
       "       '12. Women who are literate (%)',\n",
       "       '67. Total children age 6-23 months receiving an adequate diet9 10 (%)',\n",
       "       '72. Women whose Body Mass Index (BMI) is below normal (BMI <18.5 kg/m2) (%)',\n",
       "       '76. Children age 6-59 months who are anaemic (<11.0 g/dl) (%)',\n",
       "       '79. All women age 15-49 years who are anaemic (%)',\n",
       "       '15. Women age 20-24 years married before age 18 years (%)',\n",
       "       '19. Any modern method (%)',\n",
       "       '30. Mothers who had at least 4 antenatal care visits (%)',\n",
       "       '13. Men who are literate (%)',\n",
       "       '62. Children under age 3 years breastfed within one hour of birth8 (%)',\n",
       "       '32. Mothers who consumed iron folic acid for 100 days or more when they were pregnant (%)'],\n",
       "      dtype='object')"
      ]
     },
     "execution_count": 18,
     "metadata": {},
     "output_type": "execute_result"
    }
   ],
   "source": [
    "#since dataframe df contained the normalised data, we will load the same into df_normalised. The input for k-means clustering should be normalised\n",
    "df_normalised = df[attributes_stunting]\n",
    "df_normalised.columns"
   ]
  },
  {
   "cell_type": "code",
   "execution_count": 19,
   "metadata": {},
   "outputs": [],
   "source": [
    "#load discrete values in df_discrete\n",
    "df_discrete = pd.read_csv('./../Data/working_data/equal_frequency_discretised_data_7.csv')\n",
    "df_discrete.drop(df_discrete.columns[[0]], axis = 1, inplace = True) \n",
    "stunting_discrete = df_discrete['68. Children under 5 years who are stunted11 (%)'].tolist()\n"
   ]
  },
  {
   "cell_type": "markdown",
   "metadata": {},
   "source": [
    "## 2.3 Clustering on the basis of sanitation facilities in household"
   ]
  },
  {
   "cell_type": "code",
   "execution_count": 20,
   "metadata": {
    "scrolled": true
   },
   "outputs": [
    {
     "name": "stderr",
     "output_type": "stream",
     "text": [
      "/opt/anaconda3/lib/python3.7/site-packages/ipykernel_launcher.py:3: SettingWithCopyWarning: \n",
      "A value is trying to be set on a copy of a slice from a DataFrame.\n",
      "Try using .loc[row_indexer,col_indexer] = value instead\n",
      "\n",
      "See the caveats in the documentation: http://pandas.pydata.org/pandas-docs/stable/user_guide/indexing.html#returning-a-view-versus-a-copy\n",
      "  This is separate from the ipykernel package so we can avoid doing imports until\n",
      "/opt/anaconda3/lib/python3.7/site-packages/ipykernel_launcher.py:4: SettingWithCopyWarning: \n",
      "A value is trying to be set on a copy of a slice from a DataFrame.\n",
      "Try using .loc[row_indexer,col_indexer] = value instead\n",
      "\n",
      "See the caveats in the documentation: http://pandas.pydata.org/pandas-docs/stable/user_guide/indexing.html#returning-a-view-versus-a-copy\n",
      "  after removing the cwd from sys.path.\n"
     ]
    }
   ],
   "source": [
    "\n",
    "df_cluster_1 = df_normalised[['8. Households using improved sanitation facility2 (%)'] ]\n",
    "cluster_labels, cluster_centers = KMeansClustering(df_cluster_1, 3)\n",
    "df_cluster_1['cluster labels'] = cluster_labels\n",
    "df_cluster_1['68. Children under 5 years who are stunted11 (%)'] = stunting_discrete"
   ]
  },
  {
   "cell_type": "code",
   "execution_count": 21,
   "metadata": {},
   "outputs": [
    {
     "name": "stdout",
     "output_type": "stream",
     "text": [
      "[[-1.005601471487035], [1.2815651882917285], [0.1215548789574176]]\n"
     ]
    }
   ],
   "source": [
    "print(cluster_centers)\n"
   ]
  },
  {
   "cell_type": "markdown",
   "metadata": {},
   "source": [
    "**The cluster center values (centroids) indicate that the clusters 0 , 1 and 2 correspond to districts having low , high and medium  % households having improved sanitation facilities**\n",
    "<br>\n",
    "**Now, for each cluster, let us see the proportion of districts that have high, low, and medium staunting (discrete values taken from  equal frequency discretised data)"
   ]
  },
  {
   "cell_type": "code",
   "execution_count": 22,
   "metadata": {},
   "outputs": [
    {
     "name": "stdout",
     "output_type": "stream",
     "text": [
      "C1\n",
      "0.0755813953488372\n",
      "0.29651162790697677\n",
      "0.627906976744186\n",
      "C2\n",
      "0.6530054644808743\n",
      "0.28415300546448086\n",
      "0.06284153005464481\n",
      "C3\n",
      "0.3829268292682927\n",
      "0.4195121951219512\n",
      "0.1975609756097561\n"
     ]
    }
   ],
   "source": [
    "dfC0 = df_cluster_1.loc[df_cluster_1['cluster labels']==1]\n",
    "dfC1 = df_cluster_1.loc[df_cluster_1['cluster labels']==2]\n",
    "dfC2 = df_cluster_1.loc[df_cluster_1['cluster labels']==3]\n",
    "\n",
    "l,m,h=0,0,0\n",
    "\n",
    "l = dfC0[dfC0['68. Children under 5 years who are stunted11 (%)']=='low'].shape[0]/dfC0.shape[0]\n",
    "m = dfC0[dfC0['68. Children under 5 years who are stunted11 (%)']=='medium'].shape[0]/dfC0.shape[0]\n",
    "h = dfC0[dfC0['68. Children under 5 years who are stunted11 (%)']=='high'].shape[0]/dfC0.shape[0]\n",
    "print(\"C1\")\n",
    "print(l)\n",
    "print(m)\n",
    "print(h)\n",
    "\n",
    "l = dfC1[dfC1['68. Children under 5 years who are stunted11 (%)']=='low'].shape[0]/dfC1.shape[0]\n",
    "m = dfC1[dfC1['68. Children under 5 years who are stunted11 (%)']=='medium'].shape[0]/dfC1.shape[0]\n",
    "h = dfC1[dfC1['68. Children under 5 years who are stunted11 (%)']=='high'].shape[0]/dfC1.shape[0]\n",
    "print(\"C2\")\n",
    "print(l)\n",
    "print(m)\n",
    "print(h)\n",
    "\n",
    "l = dfC2[dfC2['68. Children under 5 years who are stunted11 (%)']=='low'].shape[0]/dfC2.shape[0]\n",
    "m = dfC2[dfC2['68. Children under 5 years who are stunted11 (%)']=='medium'].shape[0]/dfC2.shape[0]\n",
    "h = dfC2[dfC2['68. Children under 5 years who are stunted11 (%)']=='high'].shape[0]/dfC2.shape[0]\n",
    "print(\"C3\")\n",
    "print(l)\n",
    "print(m)\n",
    "print(h)"
   ]
  },
  {
   "cell_type": "markdown",
   "metadata": {},
   "source": [
    "It is clear of all the districts that belong to cluster 0 (corresponding to low % of households having improved santitation facilities ), 62.7% have 'high' stunting rates, and ONLY 7.5% have 'low' stunting rates. On the other hand, of all the districts that belong to  cluster 1,(corresponding to high % of households having improved santitation facilities), 65.3% have 'low' stunting rates and ONLY 6.2% have 'high' % of children that are stunted .\n",
    "\n",
    "**We can therefore conclude that children with access to improved sanitation facilities are at lower risk of stunting**\n"
   ]
  },
  {
   "cell_type": "code",
   "execution_count": 23,
   "metadata": {},
   "outputs": [],
   "source": [
    "df11=df_cluster_1.loc[df_cluster_1['cluster labels']==1]\n",
    "dfc011=df11.loc[df11['68. Children under 5 years who are stunted11 (%)']=='low']\n",
    "dfc111=df11.loc[df11['68. Children under 5 years who are stunted11 (%)']=='medium']\n",
    "dfc211=df11.loc[df11['68. Children under 5 years who are stunted11 (%)']=='high']\n",
    "\n",
    "df21=df_cluster_1.loc[df_cluster_1['cluster labels']==2]\n",
    "dfc021=df21.loc[df21['68. Children under 5 years who are stunted11 (%)']=='low']\n",
    "dfc121=df21.loc[df21['68. Children under 5 years who are stunted11 (%)']=='medium']\n",
    "dfc221=df21.loc[df21['68. Children under 5 years who are stunted11 (%)']=='high']\n",
    "\n",
    "df31=df_cluster_1.loc[df_cluster_1['cluster labels']==3]\n",
    "dfc031=df31.loc[df31['68. Children under 5 years who are stunted11 (%)']=='low']\n",
    "dfc131=df31.loc[df31['68. Children under 5 years who are stunted11 (%)']=='medium']\n",
    "dfc231=df31.loc[df31['68. Children under 5 years who are stunted11 (%)']=='high']\n"
   ]
  },
  {
   "cell_type": "code",
   "execution_count": 24,
   "metadata": {},
   "outputs": [
    {
     "data": {
      "image/png": "[encoded data removed]",
      "text/plain": [
       "<Figure size 432x288 with 1 Axes>"
      ]
     },
     "metadata": {
      "needs_background": "light"
     },
     "output_type": "display_data"
    },
    {
     "data": {
      "image/png": "[encoded data removed]",
      "text/plain": [
       "<Figure size 432x288 with 1 Axes>"
      ]
     },
     "metadata": {},
     "output_type": "display_data"
    }
   ],
   "source": [
    "# Stacked bar plot\n",
    "# y-axis in bold\n",
    "rc('font', weight='bold')\n",
    " \n",
    "# Values of each group\n",
    "bars1 = [dfc011['68. Children under 5 years who are stunted11 (%)'].value_counts().values.mean(),\n",
    "         dfc021['68. Children under 5 years who are stunted11 (%)'].value_counts().values.mean(),\n",
    "         dfc031['68. Children under 5 years who are stunted11 (%)'].value_counts().values.mean()]\n",
    "\n",
    "\n",
    "bars2 = [dfc111['68. Children under 5 years who are stunted11 (%)'].value_counts().values.mean(),\n",
    "        dfc121['68. Children under 5 years who are stunted11 (%)'].value_counts().values.mean(),\n",
    "        dfc131['68. Children under 5 years who are stunted11 (%)'].value_counts().values.mean()]\n",
    "\n",
    "\n",
    "bars3 = [dfc211['68. Children under 5 years who are stunted11 (%)'].value_counts().values.mean(),\n",
    "        dfc221['68. Children under 5 years who are stunted11 (%)'].value_counts().values.mean(),\n",
    "        dfc231['68. Children under 5 years who are stunted11 (%)'].value_counts().values.mean()]\n",
    " \n",
    "# Heights of bars1 + bars2\n",
    "bars = np.add(bars1, bars2).tolist()\n",
    " \n",
    "# The position of the bars on the x-axis\n",
    "r = [0,1,2]\n",
    " \n",
    "# Names of group and bar width\n",
    "names = ['low sanitation %','high sanitation %','medium sanitation %']\n",
    "barWidth = 0.5\n",
    " \n",
    "# Create brown bars\n",
    "plt.bar(r, bars1, color='xkcd:khaki', edgecolor='black', width=barWidth, label='low % stunting')\n",
    "# Create green bars (middle), on top of the firs ones\n",
    "plt.bar(r, bars2, bottom=bars1, color= 'xkcd:aquamarine', edgecolor='black', width=barWidth, label='Medium % stunting')\n",
    "# Create green bars (top)\n",
    "plt.bar(r, bars3, bottom=bars, color='xkcd:fuchsia', edgecolor='black', width=barWidth, label='High % stunting')\n",
    " \n",
    "# Custom X axis\n",
    "plt.xticks(r, names, fontweight='bold')\n",
    "plt.xlabel(\"Stunting and the cleanliness of surroundings \", weight='bold')\n",
    "plt.legend(loc=0, ncol=2)\n",
    "plt.savefig('./../Plots/RESULT PLOTS/plot1.png')\n",
    "# Show graphic\n",
    "plt.show()\n",
    "\n",
    "\n",
    "\n",
    "# Nested pie chart\n",
    "labels=['poor sanitation', 'good sanitation','average sanitation']\n",
    "sizes =[df11['cluster labels'].value_counts().values.mean(),\n",
    "        df21['cluster labels'].value_counts().values.mean(),\n",
    "        df31['cluster labels'].value_counts().values.mean()]\n",
    "labels_region = ['low','medium','high','low','medium','high','low','medium','high']\n",
    "sizes_contr = [dfc011['68. Children under 5 years who are stunted11 (%)'].value_counts().values.mean(),\n",
    "               dfc111['68. Children under 5 years who are stunted11 (%)'].value_counts().values.mean(),\n",
    "               dfc211['68. Children under 5 years who are stunted11 (%)'].value_counts().values.mean(),\n",
    "               dfc021['68. Children under 5 years who are stunted11 (%)'].value_counts().values.mean(),\n",
    "               dfc121['68. Children under 5 years who are stunted11 (%)'].value_counts().values.mean(),\n",
    "               dfc221['68. Children under 5 years who are stunted11 (%)'].value_counts().values.mean(),\n",
    "               dfc031['68. Children under 5 years who are stunted11 (%)'].value_counts().values.mean(),\n",
    "               dfc131['68. Children under 5 years who are stunted11 (%)'].value_counts().values.mean(),\n",
    "               dfc231['68. Children under 5 years who are stunted11 (%)'].value_counts().values.mean()]\n",
    "colors = ['xkcd:wheat', 'xkcd:goldenrod', 'xkcd:coral']\n",
    "colors_region = ['xkcd:khaki','xkcd:aquamarine','xkcd:fuchsia',\n",
    "                'xkcd:khaki','xkcd:aquamarine','xkcd:fuchsia',\n",
    "                'xkcd:khaki','xkcd:aquamarine','xkcd:fuchsia']\n",
    "explode = (0,0,0) \n",
    "explode_region = (0.1,0.1,0.1,0.1,0.1,0.1,0.1,0.1,0.1)\n",
    "#Plot\n",
    "plt.pie(sizes, labels=labels, colors=colors, startangle=90,frame=True, explode=explode,radius=5)\n",
    "plt.pie(sizes_contr,colors=colors_region,startangle=90, explode=explode_region,radius=3.5)\n",
    "#Draw circle\n",
    "centre_circle = plt.Circle((0,0),1.5,color='black', fc='white',linewidth=0)\n",
    "fig = plt.gcf()\n",
    "fig.gca().add_artist(centre_circle)\n",
    "plt.axis('equal')\n",
    "plt.tight_layout()\n",
    "plt.legend(loc=3)\n",
    "plt.title(\"Sanitation and Stunting \", weight='bold')\n",
    "plt.savefig('./../Plots/RESULT PLOTS/plot2.png')\n",
    "plt.show()\n",
    "\n",
    "\n"
   ]
  },
  {
   "cell_type": "markdown",
   "metadata": {},
   "source": [
    "## 2.4 Clustering on the basis of drinking water source in household"
   ]
  },
  {
   "cell_type": "code",
   "execution_count": 25,
   "metadata": {},
   "outputs": [
    {
     "name": "stderr",
     "output_type": "stream",
     "text": [
      "/opt/anaconda3/lib/python3.7/site-packages/ipykernel_launcher.py:3: SettingWithCopyWarning: \n",
      "A value is trying to be set on a copy of a slice from a DataFrame.\n",
      "Try using .loc[row_indexer,col_indexer] = value instead\n",
      "\n",
      "See the caveats in the documentation: http://pandas.pydata.org/pandas-docs/stable/user_guide/indexing.html#returning-a-view-versus-a-copy\n",
      "  This is separate from the ipykernel package so we can avoid doing imports until\n",
      "/opt/anaconda3/lib/python3.7/site-packages/ipykernel_launcher.py:4: SettingWithCopyWarning: \n",
      "A value is trying to be set on a copy of a slice from a DataFrame.\n",
      "Try using .loc[row_indexer,col_indexer] = value instead\n",
      "\n",
      "See the caveats in the documentation: http://pandas.pydata.org/pandas-docs/stable/user_guide/indexing.html#returning-a-view-versus-a-copy\n",
      "  after removing the cwd from sys.path.\n"
     ]
    }
   ],
   "source": [
    "\n",
    "df_cluster_1 = df_normalised[['7. Households with an improved drinking-water source1 (%)'] ]\n",
    "cluster_labels, cluster_centers = KMeansClustering(df_cluster_1, 3)\n",
    "df_cluster_1['cluster labels'] = cluster_labels\n",
    "df_cluster_1['68. Children under 5 years who are stunted11 (%)'] = stunting_discrete"
   ]
  },
  {
   "cell_type": "code",
   "execution_count": 26,
   "metadata": {
    "scrolled": true
   },
   "outputs": [
    {
     "name": "stdout",
     "output_type": "stream",
     "text": [
      "[[-2.6235126024710076], [0.5717912106431945], [-0.6970145675059671]]\n"
     ]
    }
   ],
   "source": [
    "print(cluster_centers)\n"
   ]
  },
  {
   "cell_type": "markdown",
   "metadata": {},
   "source": [
    "**The cluster center values (centroids) indicate that the clusters 0 , 1 and 2 correspond to districts having low , high and medium  % households having improved water sources**\n",
    "<br>\n",
    "**Now, for each cluster, let us see the proportion of districts that have high, low, and medium staunting (discrete values taken from  equal frequency discretised data)**"
   ]
  },
  {
   "cell_type": "code",
   "execution_count": 27,
   "metadata": {},
   "outputs": [
    {
     "name": "stdout",
     "output_type": "stream",
     "text": [
      "C0\n",
      "0.37894736842105264\n",
      "0.45263157894736844\n",
      "0.16842105263157894\n",
      "C1\n",
      "0.3477751756440281\n",
      "0.29508196721311475\n",
      "0.35714285714285715\n",
      "C2\n",
      "0.29737609329446063\n",
      "0.39067055393586003\n",
      "0.3119533527696793\n"
     ]
    }
   ],
   "source": [
    "dfC0 = df_cluster_1[df_cluster_1['cluster labels']==1]\n",
    "dfC1 = df_cluster_1[df_cluster_1['cluster labels']==2]\n",
    "dfC2 = df_cluster_1[df_cluster_1['cluster labels']==3]\n",
    "\n",
    "l,m,h=0,0,0\n",
    "\n",
    "l = dfC0[dfC0['68. Children under 5 years who are stunted11 (%)']=='low'].shape[0]/dfC0.shape[0]\n",
    "m = dfC0[dfC0['68. Children under 5 years who are stunted11 (%)']=='medium'].shape[0]/dfC0.shape[0]\n",
    "h = dfC0[dfC0['68. Children under 5 years who are stunted11 (%)']=='high'].shape[0]/dfC0.shape[0]\n",
    "print(\"C0\")\n",
    "print(l)\n",
    "print(m)\n",
    "print(h)\n",
    "\n",
    "l = dfC1[dfC1['68. Children under 5 years who are stunted11 (%)']=='low'].shape[0]/dfC1.shape[0]\n",
    "m = dfC1[dfC1['68. Children under 5 years who are stunted11 (%)']=='medium'].shape[0]/dfC1.shape[0]\n",
    "h = dfC1[dfC1['68. Children under 5 years who are stunted11 (%)']=='high'].shape[0]/dfC1.shape[0]\n",
    "print(\"C1\")\n",
    "print(l)\n",
    "print(m)\n",
    "print(h)\n",
    "\n",
    "\n",
    "l = dfC2[dfC2['68. Children under 5 years who are stunted11 (%)']=='low'].shape[0]/dfC2.shape[0]\n",
    "m = dfC2[dfC2['68. Children under 5 years who are stunted11 (%)']=='medium'].shape[0]/dfC2.shape[0]\n",
    "h = dfC2[dfC2['68. Children under 5 years who are stunted11 (%)']=='high'].shape[0]/dfC2.shape[0]\n",
    "print(\"C2\")\n",
    "print(l)\n",
    "print(m)\n",
    "print(h)"
   ]
  },
  {
   "cell_type": "markdown",
   "metadata": {},
   "source": [
    "Of all the districts that belong to cluster 1 (corresponding to low % of households having acces to improved drinking water sources), 37.8% have 'low' stunting rates, and 16.8 have 'high' stunting rates. Additionally, of all the districts that belong to  cluster 2,(corresponding to high % of households having acces to improved drinking water sources), 34.7% have 'low' stunting rates and 35.71% have 'high' % of children that are stunted .\n",
    "\n",
    "**Thus, there is no evidence of any sort of a relationship between improved drinking water sources and child stunting**\n",
    "\n",
    "<br>\n",
    "\n",
    "**Children with access to improved sanitation but not improved water are at lower risk of stunting compared to children without access**\n"
   ]
  },
  {
   "cell_type": "code",
   "execution_count": 28,
   "metadata": {},
   "outputs": [],
   "source": [
    "df11=df_cluster_1.loc[df_cluster_1['cluster labels']==1]\n",
    "dfc011=df11.loc[df11['68. Children under 5 years who are stunted11 (%)']=='low']\n",
    "dfc111=df11.loc[df11['68. Children under 5 years who are stunted11 (%)']=='medium']\n",
    "dfc211=df11.loc[df11['68. Children under 5 years who are stunted11 (%)']=='high']\n",
    "\n",
    "df21=df_cluster_1.loc[df_cluster_1['cluster labels']==2]\n",
    "dfc021=df21.loc[df21['68. Children under 5 years who are stunted11 (%)']=='low']\n",
    "dfc121=df21.loc[df21['68. Children under 5 years who are stunted11 (%)']=='medium']\n",
    "dfc221=df21.loc[df21['68. Children under 5 years who are stunted11 (%)']=='high']\n",
    "\n",
    "df31=df_cluster_1.loc[df_cluster_1['cluster labels']==3]\n",
    "dfc031=df31.loc[df31['68. Children under 5 years who are stunted11 (%)']=='low']\n",
    "dfc131=df31.loc[df31['68. Children under 5 years who are stunted11 (%)']=='medium']\n",
    "dfc231=df31.loc[df31['68. Children under 5 years who are stunted11 (%)']=='high']"
   ]
  },
  {
   "cell_type": "code",
   "execution_count": 29,
   "metadata": {},
   "outputs": [
    {
     "data": {
      "image/png": "[encoded data removed]",
      "text/plain": [
       "<Figure size 432x288 with 1 Axes>"
      ]
     },
     "metadata": {
      "needs_background": "light"
     },
     "output_type": "display_data"
    },
    {
     "data": {
      "image/png": "[encoded data removed]",
      "text/plain": [
       "<Figure size 432x288 with 1 Axes>"
      ]
     },
     "metadata": {},
     "output_type": "display_data"
    }
   ],
   "source": [
    "# ###############################STACKED BAR PLOT##########################################################\n",
    "# y-axis in bold\n",
    "rc('font', weight='bold')\n",
    " \n",
    "# Values of each group\n",
    "bars1 = [dfc011['68. Children under 5 years who are stunted11 (%)'].value_counts().values.mean(),\n",
    "         dfc021['68. Children under 5 years who are stunted11 (%)'].value_counts().values.mean(),\n",
    "         dfc031['68. Children under 5 years who are stunted11 (%)'].value_counts().values.mean()]\n",
    "\n",
    "\n",
    "bars2 = [dfc111['68. Children under 5 years who are stunted11 (%)'].value_counts().values.mean(),\n",
    "        dfc121['68. Children under 5 years who are stunted11 (%)'].value_counts().values.mean(),\n",
    "        dfc131['68. Children under 5 years who are stunted11 (%)'].value_counts().values.mean()]\n",
    "\n",
    "\n",
    "bars3 = [dfc211['68. Children under 5 years who are stunted11 (%)'].value_counts().values.mean(),\n",
    "        dfc221['68. Children under 5 years who are stunted11 (%)'].value_counts().values.mean(),\n",
    "        dfc231['68. Children under 5 years who are stunted11 (%)'].value_counts().values.mean()]\n",
    " \n",
    "# Heights of bars1 + bars2\n",
    "bars = np.add(bars1, bars2).tolist()\n",
    " \n",
    "# The position of the bars on the x-axis\n",
    "r = [0,1,2]\n",
    " \n",
    "# Names of group and bar width\n",
    "names = ['low% ','High % ','medium %']\n",
    "barWidth = 0.5\n",
    " \n",
    "# Create brown bars\n",
    "plt.bar(r, bars1, color='xkcd:lavender', edgecolor='black', width=barWidth, label='low % stunting')\n",
    "# Create green bars (middle), on top of the firs ones\n",
    "plt.bar(r, bars2, bottom=bars1, color= 'xkcd:turquoise', edgecolor='black', width=barWidth, label='medium% stunting')\n",
    "# Create green bars (top)\n",
    "plt.bar(r, bars3, bottom=bars, color='xkcd:lime', edgecolor='black', width=barWidth, label='high % stunting')\n",
    " \n",
    "# Custom X axis\n",
    "plt.xticks(r, names, fontweight='bold')\n",
    "plt.xlabel(\"Effect of use of improved water sources on stunting\", weight='bold')\n",
    "plt.legend(loc=0, ncol=2)\n",
    "plt.savefig('./../Plots/RESULT PLOTS/plot3.png')\n",
    "# Show graphic\n",
    "plt.show()\n",
    "\n",
    "\n",
    "\n",
    "\n",
    "\n",
    "\n",
    "\n",
    "################################### NESTED PIE CHART########################################\n",
    "labels=[ 'Low','High','Medium']\n",
    "sizes =[df11['cluster labels'].value_counts().values.mean(),\n",
    "        df21['cluster labels'].value_counts().values.mean(),\n",
    "        df31['cluster labels'].value_counts().values.mean()]\n",
    "labels_region = ['low','medium','high','low','medium','high','low','medium','high']\n",
    "sizes_contr = [dfc011['68. Children under 5 years who are stunted11 (%)'].value_counts().values.mean(),\n",
    "               dfc111['68. Children under 5 years who are stunted11 (%)'].value_counts().values.mean(),\n",
    "               dfc211['68. Children under 5 years who are stunted11 (%)'].value_counts().values.mean(),\n",
    "               dfc021['68. Children under 5 years who are stunted11 (%)'].value_counts().values.mean(),\n",
    "               dfc121['68. Children under 5 years who are stunted11 (%)'].value_counts().values.mean(),\n",
    "               dfc221['68. Children under 5 years who are stunted11 (%)'].value_counts().values.mean(),\n",
    "               dfc031['68. Children under 5 years who are stunted11 (%)'].value_counts().values.mean(),\n",
    "               dfc131['68. Children under 5 years who are stunted11 (%)'].value_counts().values.mean(),\n",
    "               dfc231['68. Children under 5 years who are stunted11 (%)'].value_counts().values.mean()]\n",
    "colors = ['goldenrod', 'xkcd:plum', 'salmon']\n",
    "colors_region = ['xkcd:lavender','xkcd:turquoise','xkcd:lime',\n",
    "                 'xkcd:lavender','xkcd:turquoise','xkcd:lime',\n",
    "                 'xkcd:lavender','xkcd:turquoise','xkcd:lime']\n",
    "explode = (0,0,0) \n",
    "explode_region = (0.1,0.1,0.1,0.1,0.1,0.1,0.1,0.1,0.1)\n",
    "#Plot\n",
    "plt.pie(sizes, labels=labels, colors=colors, startangle=90,frame=True, explode=explode,radius=5)\n",
    "plt.pie(sizes_contr,colors=colors_region,startangle=90, explode=explode_region,radius=3.5)\n",
    "#Draw circle\n",
    "centre_circle = plt.Circle((0,0),1.5,color='black', fc='white',linewidth=0)\n",
    "fig = plt.gcf()\n",
    "fig.gca().add_artist(centre_circle)\n",
    "plt.axis('equal')\n",
    "plt.tight_layout()\n",
    "plt.legend()\n",
    "plt.title(\" Effect of use of improved water sources on Child Stunting \", weight ='bold')\n",
    "plt.savefig('./../Plots/RESULT PLOTS/plot4.png')\n",
    "plt.show()"
   ]
  },
  {
   "cell_type": "markdown",
   "metadata": {},
   "source": [
    "## 2.5 Clustering on the basis of clean fuel use in household"
   ]
  },
  {
   "cell_type": "code",
   "execution_count": 30,
   "metadata": {},
   "outputs": [
    {
     "name": "stderr",
     "output_type": "stream",
     "text": [
      "/opt/anaconda3/lib/python3.7/site-packages/ipykernel_launcher.py:3: SettingWithCopyWarning: \n",
      "A value is trying to be set on a copy of a slice from a DataFrame.\n",
      "Try using .loc[row_indexer,col_indexer] = value instead\n",
      "\n",
      "See the caveats in the documentation: http://pandas.pydata.org/pandas-docs/stable/user_guide/indexing.html#returning-a-view-versus-a-copy\n",
      "  This is separate from the ipykernel package so we can avoid doing imports until\n",
      "/opt/anaconda3/lib/python3.7/site-packages/ipykernel_launcher.py:4: SettingWithCopyWarning: \n",
      "A value is trying to be set on a copy of a slice from a DataFrame.\n",
      "Try using .loc[row_indexer,col_indexer] = value instead\n",
      "\n",
      "See the caveats in the documentation: http://pandas.pydata.org/pandas-docs/stable/user_guide/indexing.html#returning-a-view-versus-a-copy\n",
      "  after removing the cwd from sys.path.\n"
     ]
    }
   ],
   "source": [
    "\n",
    "df_cluster_1 = df_normalised[['9. Households using clean fuel for cooking3 (%)'] ]\n",
    "cluster_labels, cluster_centers = KMeansClustering(df_cluster_1, 3)\n",
    "df_cluster_1['cluster labels'] = cluster_labels\n",
    "df_cluster_1['68. Children under 5 years who are stunted11 (%)'] = stunting_discrete"
   ]
  },
  {
   "cell_type": "code",
   "execution_count": 31,
   "metadata": {},
   "outputs": [
    {
     "name": "stdout",
     "output_type": "stream",
     "text": [
      "[[-0.7433800439567382], [1.772400332730478], [0.4188600524347171]]\n"
     ]
    }
   ],
   "source": [
    "print(cluster_centers)\n"
   ]
  },
  {
   "cell_type": "markdown",
   "metadata": {},
   "source": [
    "**The cluster center values (centroids) indicate that the clusters 0 , 1 and 2 correspond to districts having low , high and medium  % households using clean fuel for cooking**\n",
    "<br>\n",
    "**Now, for each cluster, let us see the proportion of districts that have high, low, and medium staunting (discrete values taken from  equal frequency discretised data)"
   ]
  },
  {
   "cell_type": "code",
   "execution_count": 32,
   "metadata": {},
   "outputs": [
    {
     "name": "stdout",
     "output_type": "stream",
     "text": [
      "C0\n",
      "0.14522821576763487\n",
      "0.35408022130013833\n",
      "0.5006915629322268\n",
      "C1\n",
      "0.6742081447963801\n",
      "0.25339366515837103\n",
      "0.07239819004524888\n",
      "C2\n",
      "0.5201149425287356\n",
      "0.33620689655172414\n",
      "0.14367816091954022\n"
     ]
    }
   ],
   "source": [
    "dfC0 = df_cluster_1.loc[df_cluster_1['cluster labels']==1]\n",
    "dfC1 = df_cluster_1.loc[df_cluster_1['cluster labels']==2]\n",
    "dfC2 = df_cluster_1.loc[df_cluster_1['cluster labels']==3]\n",
    "\n",
    "l,m,h=0,0,0\n",
    "\n",
    "l = dfC0[dfC0['68. Children under 5 years who are stunted11 (%)']=='low'].shape[0]/dfC0.shape[0]\n",
    "m = dfC0[dfC0['68. Children under 5 years who are stunted11 (%)']=='medium'].shape[0]/dfC0.shape[0]\n",
    "h = dfC0[dfC0['68. Children under 5 years who are stunted11 (%)']=='high'].shape[0]/dfC0.shape[0]\n",
    "print(\"C0\")\n",
    "print(l)\n",
    "print(m)\n",
    "print(h)\n",
    "\n",
    "l = dfC1[dfC1['68. Children under 5 years who are stunted11 (%)']=='low'].shape[0]/dfC1.shape[0]\n",
    "m = dfC1[dfC1['68. Children under 5 years who are stunted11 (%)']=='medium'].shape[0]/dfC1.shape[0]\n",
    "h = dfC1[dfC1['68. Children under 5 years who are stunted11 (%)']=='high'].shape[0]/dfC1.shape[0]\n",
    "print(\"C1\")\n",
    "print(l)\n",
    "print(m)\n",
    "print(h)\n",
    "\n",
    "l = dfC2[dfC2['68. Children under 5 years who are stunted11 (%)']=='low'].shape[0]/dfC2.shape[0]\n",
    "m = dfC2[dfC2['68. Children under 5 years who are stunted11 (%)']=='medium'].shape[0]/dfC2.shape[0]\n",
    "h = dfC2[dfC2['68. Children under 5 years who are stunted11 (%)']=='high'].shape[0]/dfC2.shape[0]\n",
    "print(\"C2\")\n",
    "print(l)\n",
    "print(m)\n",
    "print(h)"
   ]
  },
  {
   "cell_type": "markdown",
   "metadata": {},
   "source": [
    "It is clear of all the districts that belong to cluster 0 (corresponding to low % of households using clean fuel ), 50% have 'high' stunting rates, and 14.5% have 'low' stunting rates. On the other hand, of all the districts that belong to  cluster 1,(corresponding to high % of households using clean fuel use), 67.4% have 'low' stunting rates and ONLY 7.2% have 'high' % of children that are stunted .\n",
    "\n",
    "**We can therefore conclude that clean fuel use in household can prevent stunting**\n"
   ]
  },
  {
   "cell_type": "code",
   "execution_count": 33,
   "metadata": {},
   "outputs": [],
   "source": [
    "df11=df_cluster_1.loc[df_cluster_1['cluster labels']==1]\n",
    "dfc011=df11.loc[df11['68. Children under 5 years who are stunted11 (%)']=='low']\n",
    "dfc111=df11.loc[df11['68. Children under 5 years who are stunted11 (%)']=='medium']\n",
    "dfc211=df11.loc[df11['68. Children under 5 years who are stunted11 (%)']=='high']\n",
    "\n",
    "df21=df_cluster_1.loc[df_cluster_1['cluster labels']==2]\n",
    "dfc021=df21.loc[df21['68. Children under 5 years who are stunted11 (%)']=='low']\n",
    "dfc121=df21.loc[df21['68. Children under 5 years who are stunted11 (%)']=='medium']\n",
    "dfc221=df21.loc[df21['68. Children under 5 years who are stunted11 (%)']=='high']\n",
    "\n",
    "df31=df_cluster_1.loc[df_cluster_1['cluster labels']==3]\n",
    "dfc031=df31.loc[df31['68. Children under 5 years who are stunted11 (%)']=='low']\n",
    "dfc131=df31.loc[df31['68. Children under 5 years who are stunted11 (%)']=='medium']\n",
    "dfc231=df31.loc[df31['68. Children under 5 years who are stunted11 (%)']=='high']"
   ]
  },
  {
   "cell_type": "code",
   "execution_count": 34,
   "metadata": {},
   "outputs": [
    {
     "data": {
      "image/png": "[encoded data removed]",
      "text/plain": [
       "<Figure size 432x288 with 1 Axes>"
      ]
     },
     "metadata": {
      "needs_background": "light"
     },
     "output_type": "display_data"
    },
    {
     "data": {
      "image/png": "[encoded data removed]",
      "text/plain": [
       "<Figure size 432x288 with 1 Axes>"
      ]
     },
     "metadata": {},
     "output_type": "display_data"
    }
   ],
   "source": [
    "# ###############################STACKED BAR PLOT##########################################################\n",
    "# y-axis in bold\n",
    "rc('font', weight='bold')\n",
    " \n",
    "# Values of each group\n",
    "bars1 = [dfc011['68. Children under 5 years who are stunted11 (%)'].value_counts().values.mean(),\n",
    "         dfc021['68. Children under 5 years who are stunted11 (%)'].value_counts().values.mean(),\n",
    "         dfc031['68. Children under 5 years who are stunted11 (%)'].value_counts().values.mean()]\n",
    "\n",
    "\n",
    "bars2 = [dfc111['68. Children under 5 years who are stunted11 (%)'].value_counts().values.mean(),\n",
    "        dfc121['68. Children under 5 years who are stunted11 (%)'].value_counts().values.mean(),\n",
    "        dfc131['68. Children under 5 years who are stunted11 (%)'].value_counts().values.mean()]\n",
    "\n",
    "\n",
    "bars3 = [dfc211['68. Children under 5 years who are stunted11 (%)'].value_counts().values.mean(),\n",
    "        dfc221['68. Children under 5 years who are stunted11 (%)'].value_counts().values.mean(),\n",
    "        dfc231['68. Children under 5 years who are stunted11 (%)'].value_counts().values.mean()]\n",
    " \n",
    "# Heights of bars1 + bars2\n",
    "bars = np.add(bars1, bars2).tolist()\n",
    " \n",
    "# The position of the bars on the x-axis\n",
    "r = [0,1,2]\n",
    " \n",
    "# Names of group and bar width\n",
    "names = ['Low% ','High % ','Medium %']\n",
    "barWidth = 0.5\n",
    " \n",
    "# Create brown bars\n",
    "plt.bar(r, bars1, color='xkcd:lavender', edgecolor='black', width=barWidth, label='low % stunting')\n",
    "# Create green bars (middle), on top of the firs ones\n",
    "plt.bar(r, bars2, bottom=bars1, color= 'xkcd:turquoise', edgecolor='black', width=barWidth, label='medium % stunting')\n",
    "# Create green bars (top)\n",
    "plt.bar(r, bars3, bottom=bars, color='xkcd:lime', edgecolor='black', width=barWidth, label='high % stunting')\n",
    " \n",
    "# Custom X axis\n",
    "plt.xticks(r, names, fontweight='bold')\n",
    "plt.xlabel(\"Clean fuel use and its effect on Child Stunting\", weight='bold')\n",
    "plt.legend(loc=0, ncol=2)\n",
    "plt.savefig('./../Plots/RESULT PLOTS/plot5.png')\n",
    "# Show graphic\n",
    "plt.show()\n",
    "\n",
    "\n",
    "\n",
    "\n",
    "\n",
    "\n",
    "\n",
    "################################### NESTED PIE CHART########################################\n",
    "labels=[ 'Low','High', 'Medium']\n",
    "sizes =[df11['cluster labels'].value_counts().values.mean(),\n",
    "        df21['cluster labels'].value_counts().values.mean(),\n",
    "        df31['cluster labels'].value_counts().values.mean()]\n",
    "labels_region = ['low','medium','high','low','medium','high','low','medium','high']\n",
    "sizes_contr = [dfc011['68. Children under 5 years who are stunted11 (%)'].value_counts().values.mean(),\n",
    "               dfc111['68. Children under 5 years who are stunted11 (%)'].value_counts().values.mean(),\n",
    "               dfc211['68. Children under 5 years who are stunted11 (%)'].value_counts().values.mean(),\n",
    "               dfc021['68. Children under 5 years who are stunted11 (%)'].value_counts().values.mean(),\n",
    "               dfc121['68. Children under 5 years who are stunted11 (%)'].value_counts().values.mean(),\n",
    "               dfc221['68. Children under 5 years who are stunted11 (%)'].value_counts().values.mean(),\n",
    "               dfc031['68. Children under 5 years who are stunted11 (%)'].value_counts().values.mean(),\n",
    "               dfc131['68. Children under 5 years who are stunted11 (%)'].value_counts().values.mean(),\n",
    "               dfc231['68. Children under 5 years who are stunted11 (%)'].value_counts().values.mean()]\n",
    "colors = ['goldenrod', 'xkcd:plum', 'salmon']\n",
    "colors_region = ['xkcd:lavender','xkcd:turquoise','xkcd:lime',\n",
    "                 'xkcd:lavender','xkcd:turquoise','xkcd:lime',\n",
    "                 'xkcd:lavender','xkcd:turquoise','xkcd:lime']\n",
    "explode = (0,0,0) \n",
    "explode_region = (0.1,0.1,0.1,0.1,0.1,0.1,0.1,0.1,0.1)\n",
    "#Plot\n",
    "plt.pie(sizes, labels=labels, colors=colors, startangle=90,frame=True, explode=explode,radius=5)\n",
    "plt.pie(sizes_contr,colors=colors_region,startangle=90, explode=explode_region,radius=3.5)\n",
    "#Draw circle\n",
    "centre_circle = plt.Circle((0,0),1.5,color='black', fc='white',linewidth=0)\n",
    "fig = plt.gcf()\n",
    "fig.gca().add_artist(centre_circle)\n",
    "plt.axis('equal')\n",
    "plt.tight_layout()\n",
    "plt.legend()\n",
    "plt.title(\" Clean fuel use and its effect on Child Stunting \", weight ='bold')\n",
    "plt.savefig('./../Plots/RESULT PLOTS/plot6.png')\n",
    "plt.show()"
   ]
  },
  {
   "cell_type": "markdown",
   "metadata": {},
   "source": [
    "## 2.6 clustering on the basis of breastfeeding practises"
   ]
  },
  {
   "cell_type": "code",
   "execution_count": 35,
   "metadata": {},
   "outputs": [
    {
     "name": "stderr",
     "output_type": "stream",
     "text": [
      "/opt/anaconda3/lib/python3.7/site-packages/ipykernel_launcher.py:3: SettingWithCopyWarning: \n",
      "A value is trying to be set on a copy of a slice from a DataFrame.\n",
      "Try using .loc[row_indexer,col_indexer] = value instead\n",
      "\n",
      "See the caveats in the documentation: http://pandas.pydata.org/pandas-docs/stable/user_guide/indexing.html#returning-a-view-versus-a-copy\n",
      "  This is separate from the ipykernel package so we can avoid doing imports until\n",
      "/opt/anaconda3/lib/python3.7/site-packages/ipykernel_launcher.py:4: SettingWithCopyWarning: \n",
      "A value is trying to be set on a copy of a slice from a DataFrame.\n",
      "Try using .loc[row_indexer,col_indexer] = value instead\n",
      "\n",
      "See the caveats in the documentation: http://pandas.pydata.org/pandas-docs/stable/user_guide/indexing.html#returning-a-view-versus-a-copy\n",
      "  after removing the cwd from sys.path.\n"
     ]
    }
   ],
   "source": [
    "\n",
    "df_cluster_1 = df_normalised[['62. Children under age 3 years breastfed within one hour of birth8 (%)']]\n",
    "cluster_labels, cluster_centers = KMeansClustering(df_cluster_1, 3)\n",
    "df_cluster_1['cluster labels'] = cluster_labels\n",
    "df_cluster_1['68. Children under 5 years who are stunted11 (%)'] = stunting_discrete"
   ]
  },
  {
   "cell_type": "code",
   "execution_count": 36,
   "metadata": {},
   "outputs": [
    {
     "name": "stdout",
     "output_type": "stream",
     "text": [
      "[[0.07193102652501725], [-1.0177266579405448], [1.3438792859869901]]\n"
     ]
    }
   ],
   "source": [
    "print(cluster_centers)\n"
   ]
  },
  {
   "cell_type": "markdown",
   "metadata": {},
   "source": [
    "**The cluster center values (centroids) indicate that the clusters 0 , 1 and 2 correspond to districts having medium , low and high % of children breastfed within an hour of birth**\n",
    "<br>\n",
    "**Now, for each cluster, let us see the proportion of districts that have high, low, and medium staunting (discrete values taken from  equal frequency discretised data)**"
   ]
  },
  {
   "cell_type": "code",
   "execution_count": 37,
   "metadata": {},
   "outputs": [
    {
     "name": "stdout",
     "output_type": "stream",
     "text": [
      "C0\n",
      "0.4110169491525424\n",
      "0.3326271186440678\n",
      "0.2563559322033898\n",
      "C1\n",
      "0.19126819126819128\n",
      "0.33264033264033266\n",
      "0.4760914760914761\n",
      "C2\n",
      "0.43952802359882004\n",
      "0.3303834808259587\n",
      "0.23008849557522124\n"
     ]
    }
   ],
   "source": [
    "dfC0 = df_cluster_1[df_cluster_1['cluster labels']==1]\n",
    "dfC1 = df_cluster_1[df_cluster_1['cluster labels']==2]\n",
    "dfC2 = df_cluster_1[df_cluster_1['cluster labels']==3]\n",
    "\n",
    "l,m,h=0,0,0\n",
    "\n",
    "l = dfC0[dfC0['68. Children under 5 years who are stunted11 (%)']=='low'].shape[0]/dfC0.shape[0]\n",
    "m = dfC0[dfC0['68. Children under 5 years who are stunted11 (%)']=='medium'].shape[0]/dfC0.shape[0]\n",
    "h = dfC0[dfC0['68. Children under 5 years who are stunted11 (%)']=='high'].shape[0]/dfC0.shape[0]\n",
    "print(\"C0\")\n",
    "print(l)\n",
    "print(m)\n",
    "print(h)\n",
    "\n",
    "l = dfC1[dfC1['68. Children under 5 years who are stunted11 (%)']=='low'].shape[0]/dfC1.shape[0]\n",
    "m = dfC1[dfC1['68. Children under 5 years who are stunted11 (%)']=='medium'].shape[0]/dfC1.shape[0]\n",
    "h = dfC1[dfC1['68. Children under 5 years who are stunted11 (%)']=='high'].shape[0]/dfC1.shape[0]\n",
    "print(\"C1\")\n",
    "print(l)\n",
    "print(m)\n",
    "print(h)\n",
    "\n",
    "\n",
    "l = dfC2[dfC2['68. Children under 5 years who are stunted11 (%)']=='low'].shape[0]/dfC2.shape[0]\n",
    "m = dfC2[dfC2['68. Children under 5 years who are stunted11 (%)']=='medium'].shape[0]/dfC2.shape[0]\n",
    "h = dfC2[dfC2['68. Children under 5 years who are stunted11 (%)']=='high'].shape[0]/dfC2.shape[0]\n",
    "print(\"C2\")\n",
    "print(l)\n",
    "print(m)\n",
    "print(h)"
   ]
  },
  {
   "cell_type": "markdown",
   "metadata": {},
   "source": [
    "**It is clear of all the points that belong to cluster 1 (corresponding to low % of children breastfed within an hour of birth), 47% have 'high' stunting rates. On the other hand, of all the points that belong to  cluster 2,(corresponding to low % of children breastfed within an hour of birth), 44% have 'low' stunting rates.**\n",
    "\n",
    "**We can therefore conclude that early initiation to breastfeeding can prevent stunting in children.**\n",
    "\n"
   ]
  },
  {
   "cell_type": "code",
   "execution_count": 38,
   "metadata": {},
   "outputs": [],
   "source": [
    "df11=df_cluster_1.loc[df_cluster_1['cluster labels']==1]\n",
    "dfc011=df11.loc[df11['68. Children under 5 years who are stunted11 (%)']=='low']\n",
    "dfc111=df11.loc[df11['68. Children under 5 years who are stunted11 (%)']=='medium']\n",
    "dfc211=df11.loc[df11['68. Children under 5 years who are stunted11 (%)']=='high']\n",
    "\n",
    "df21=df_cluster_1.loc[df_cluster_1['cluster labels']==2]\n",
    "dfc021=df21.loc[df21['68. Children under 5 years who are stunted11 (%)']=='low']\n",
    "dfc121=df21.loc[df21['68. Children under 5 years who are stunted11 (%)']=='medium']\n",
    "dfc221=df21.loc[df21['68. Children under 5 years who are stunted11 (%)']=='high']\n",
    "\n",
    "df31=df_cluster_1.loc[df_cluster_1['cluster labels']==3]\n",
    "dfc031=df31.loc[df31['68. Children under 5 years who are stunted11 (%)']=='low']\n",
    "dfc131=df31.loc[df31['68. Children under 5 years who are stunted11 (%)']=='medium']\n",
    "dfc231=df31.loc[df31['68. Children under 5 years who are stunted11 (%)']=='high']"
   ]
  },
  {
   "cell_type": "code",
   "execution_count": 39,
   "metadata": {},
   "outputs": [
    {
     "data": {
      "image/png": "[encoded data removed]",
      "text/plain": [
       "<Figure size 432x288 with 1 Axes>"
      ]
     },
     "metadata": {
      "needs_background": "light"
     },
     "output_type": "display_data"
    },
    {
     "data": {
      "image/png": "[encoded data removed]",
      "text/plain": [
       "<Figure size 432x288 with 1 Axes>"
      ]
     },
     "metadata": {},
     "output_type": "display_data"
    }
   ],
   "source": [
    "# ###############################STACKED BAR PLOT##########################################################\n",
    "# y-axis in bold\n",
    "rc('font', weight='bold')\n",
    " \n",
    "# Values of each group\n",
    "bars1 = [dfc011['68. Children under 5 years who are stunted11 (%)'].value_counts().values.mean(),\n",
    "         dfc021['68. Children under 5 years who are stunted11 (%)'].value_counts().values.mean(),\n",
    "         dfc031['68. Children under 5 years who are stunted11 (%)'].value_counts().values.mean()]\n",
    "\n",
    "\n",
    "bars2 = [dfc111['68. Children under 5 years who are stunted11 (%)'].value_counts().values.mean(),\n",
    "        dfc121['68. Children under 5 years who are stunted11 (%)'].value_counts().values.mean(),\n",
    "        dfc131['68. Children under 5 years who are stunted11 (%)'].value_counts().values.mean()]\n",
    "\n",
    "\n",
    "bars3 = [dfc211['68. Children under 5 years who are stunted11 (%)'].value_counts().values.mean(),\n",
    "        dfc221['68. Children under 5 years who are stunted11 (%)'].value_counts().values.mean(),\n",
    "        dfc231['68. Children under 5 years who are stunted11 (%)'].value_counts().values.mean()]\n",
    " \n",
    "# Heights of bars1 + bars2\n",
    "bars = np.add(bars1, bars2).tolist()\n",
    " \n",
    "# The position of the bars on the x-axis\n",
    "r = [0,1,2]\n",
    " \n",
    "# Names of group and bar width\n",
    "names = ['medium breastfeed','low breastfeed ','high breastfeed']\n",
    "barWidth = 0.5\n",
    " \n",
    "# Create brown bars\n",
    "plt.bar(r, bars1, color='xkcd:teal', edgecolor='black', width=barWidth, label='low % stunting')\n",
    "# Create green bars (middle), on top of the firs ones\n",
    "plt.bar(r, bars2, bottom=bars1, color= 'xkcd:coral', edgecolor='black', width=barWidth, label='Medium % stunting')\n",
    "# Create green bars (top)\n",
    "plt.bar(r, bars3, bottom=bars, color='xkcd:gold', edgecolor='black', width=barWidth, label='High % stunting')\n",
    " \n",
    "# Custom X axis\n",
    "plt.xticks(r, names, fontweight='bold')\n",
    "plt.xlabel(\"Stunting and the breastfeeding\", weight='bold')\n",
    "plt.legend(loc=0, ncol=2)\n",
    "plt.savefig('./../Plots/RESULT PLOTS/plot7.png')\n",
    "# Show graphic\n",
    "plt.show()\n",
    "\n",
    "\n",
    "\n",
    "##################### NESTED PIE PLOT###############################################\n",
    "\n",
    "labels=['medium breast feed%', ' low breastfeed %','high breastfeed%']\n",
    "sizes =[df11['cluster labels'].value_counts().values.mean(),\n",
    "        df21['cluster labels'].value_counts().values.mean(),\n",
    "        df31['cluster labels'].value_counts().values.mean()]\n",
    "labels_region = ['low','medium','high','low','medium','high','low','medium','high']\n",
    "sizes_contr = [dfc011['68. Children under 5 years who are stunted11 (%)'].value_counts().values.mean(),\n",
    "               dfc111['68. Children under 5 years who are stunted11 (%)'].value_counts().values.mean(),\n",
    "               dfc211['68. Children under 5 years who are stunted11 (%)'].value_counts().values.mean(),\n",
    "               dfc021['68. Children under 5 years who are stunted11 (%)'].value_counts().values.mean(),\n",
    "               dfc121['68. Children under 5 years who are stunted11 (%)'].value_counts().values.mean(),\n",
    "               dfc221['68. Children under 5 years who are stunted11 (%)'].value_counts().values.mean(),\n",
    "               dfc031['68. Children under 5 years who are stunted11 (%)'].value_counts().values.mean(),\n",
    "               dfc131['68. Children under 5 years who are stunted11 (%)'].value_counts().values.mean(),\n",
    "               dfc231['68. Children under 5 years who are stunted11 (%)'].value_counts().values.mean()]\n",
    "colors = ['xkcd:lime', 'xkcd:orchid', 'xkcd:sienna']\n",
    "colors_region = ['xkcd:teal','xkcd:coral','xkcd:gold',\n",
    "                 'xkcd:teal','xkcd:coral','xkcd:gold',\n",
    "                 'xkcd:teal','xkcd:coral','xkcd:gold']\n",
    "explode = (0,0,0) \n",
    "explode_region = (0.1,0.1,0.1,0.1,0.1,0.1,0.1,0.1,0.1)\n",
    "#Plot\n",
    "plt.pie(sizes, labels=labels, colors=colors, startangle=90,frame=True, explode=explode,radius=5)\n",
    "plt.pie(sizes_contr,colors=colors_region,startangle=90, explode=explode_region,radius=3.5)\n",
    "#Draw circle\n",
    "centre_circle = plt.Circle((0,0),1.5,color='black', fc='white',linewidth=0)\n",
    "fig = plt.gcf()\n",
    "fig.gca().add_artist(centre_circle)\n",
    "plt.axis('equal')\n",
    "plt.tight_layout()\n",
    "plt.legend(loc=3)\n",
    "plt.title(\"Breastfeeding and Stunting \",weight='bold')\n",
    "plt.savefig('./../Plots/RESULT PLOTS/plot8.png')\n",
    "plt.show()"
   ]
  },
  {
   "cell_type": "markdown",
   "metadata": {},
   "source": [
    "## 2.7 clustering on the basis of women literacy\n"
   ]
  },
  {
   "cell_type": "code",
   "execution_count": 40,
   "metadata": {},
   "outputs": [
    {
     "name": "stderr",
     "output_type": "stream",
     "text": [
      "/opt/anaconda3/lib/python3.7/site-packages/ipykernel_launcher.py:3: SettingWithCopyWarning: \n",
      "A value is trying to be set on a copy of a slice from a DataFrame.\n",
      "Try using .loc[row_indexer,col_indexer] = value instead\n",
      "\n",
      "See the caveats in the documentation: http://pandas.pydata.org/pandas-docs/stable/user_guide/indexing.html#returning-a-view-versus-a-copy\n",
      "  This is separate from the ipykernel package so we can avoid doing imports until\n",
      "/opt/anaconda3/lib/python3.7/site-packages/ipykernel_launcher.py:4: SettingWithCopyWarning: \n",
      "A value is trying to be set on a copy of a slice from a DataFrame.\n",
      "Try using .loc[row_indexer,col_indexer] = value instead\n",
      "\n",
      "See the caveats in the documentation: http://pandas.pydata.org/pandas-docs/stable/user_guide/indexing.html#returning-a-view-versus-a-copy\n",
      "  after removing the cwd from sys.path.\n"
     ]
    }
   ],
   "source": [
    "\n",
    "df_cluster_1 = df_normalised[['12. Women who are literate (%)' ] ]\n",
    "cluster_labels, cluster_centers = KMeansClustering(df_cluster_1, 3)\n",
    "df_cluster_1['cluster labels'] = cluster_labels\n",
    "df_cluster_1['68. Children under 5 years who are stunted11 (%)'] = stunting_discrete"
   ]
  },
  {
   "cell_type": "code",
   "execution_count": 41,
   "metadata": {},
   "outputs": [
    {
     "name": "stdout",
     "output_type": "stream",
     "text": [
      "[[-1.3232860594649198], [1.074442247416933], [-0.062328907620908425]]\n"
     ]
    }
   ],
   "source": [
    "print(cluster_centers)\n"
   ]
  },
  {
   "cell_type": "markdown",
   "metadata": {},
   "source": [
    "**The cluster center values (centroids) indicate that the clusters 0 , 1 and 2 correspond to districts having low, high, medium % of women literacy**\n",
    "<br>\n",
    "**Now, for each cluster, let us see the proportion of districts that have high, low, and medium staunting (discrete values taken from  equal frequency discretised data)**"
   ]
  },
  {
   "cell_type": "code",
   "execution_count": 42,
   "metadata": {},
   "outputs": [
    {
     "name": "stdout",
     "output_type": "stream",
     "text": [
      "C0\n",
      "0.03625377643504532\n",
      "0.2628398791540785\n",
      "0.7009063444108762\n",
      "C1\n",
      "0.6712328767123288\n",
      "0.2557077625570776\n",
      "0.0730593607305936\n",
      "C2\n",
      "0.24665391969407266\n",
      "0.4397705544933078\n",
      "0.3135755258126195\n"
     ]
    }
   ],
   "source": [
    "dfC0 = df_cluster_1[df_cluster_1['cluster labels']==1]\n",
    "dfC1 = df_cluster_1[df_cluster_1['cluster labels']==2]\n",
    "dfC2 = df_cluster_1[df_cluster_1['cluster labels']==3]\n",
    "\n",
    "l,m,h=0,0,0\n",
    "\n",
    "l = dfC0[dfC0['68. Children under 5 years who are stunted11 (%)']=='low'].shape[0]/dfC0.shape[0]\n",
    "m = dfC0[dfC0['68. Children under 5 years who are stunted11 (%)']=='medium'].shape[0]/dfC0.shape[0]\n",
    "h = dfC0[dfC0['68. Children under 5 years who are stunted11 (%)']=='high'].shape[0]/dfC0.shape[0]\n",
    "print(\"C0\")\n",
    "print(l)\n",
    "print(m)\n",
    "print(h)\n",
    "\n",
    "l = dfC1[dfC1['68. Children under 5 years who are stunted11 (%)']=='low'].shape[0]/dfC1.shape[0]\n",
    "m = dfC1[dfC1['68. Children under 5 years who are stunted11 (%)']=='medium'].shape[0]/dfC1.shape[0]\n",
    "h = dfC1[dfC1['68. Children under 5 years who are stunted11 (%)']=='high'].shape[0]/dfC1.shape[0]\n",
    "print(\"C1\")\n",
    "print(l)\n",
    "print(m)\n",
    "print(h)\n",
    "\n",
    "\n",
    "l = dfC2[dfC2['68. Children under 5 years who are stunted11 (%)']=='low'].shape[0]/dfC2.shape[0]\n",
    "m = dfC2[dfC2['68. Children under 5 years who are stunted11 (%)']=='medium'].shape[0]/dfC2.shape[0]\n",
    "h = dfC2[dfC2['68. Children under 5 years who are stunted11 (%)']=='high'].shape[0]/dfC2.shape[0]\n",
    "print(\"C2\")\n",
    "print(l)\n",
    "print(m)\n",
    "print(h)"
   ]
  },
  {
   "cell_type": "markdown",
   "metadata": {},
   "source": [
    "**It is clear of all the points that belong to cluster 0 (corresponding to 'low' % literacy and education levels 0f women),70.09% have 'high' stunting rates, and ONLY 3.6% have 'low' stunting rates. On the other hand, of all the points that belong to  cluster 1,(corresponding to 'high' % of literacy and education levels), 67.1% have 'low' stunting rates and ONLY 7.3% have 'high' stunting rates.**\n",
    "\n",
    "**We can therefore conclude that there is a strong association between literacy and education levels of women and child stunting**\n",
    "\n"
   ]
  },
  {
   "cell_type": "code",
   "execution_count": 43,
   "metadata": {},
   "outputs": [],
   "source": [
    "df11=df_cluster_1.loc[df_cluster_1['cluster labels']==1]\n",
    "dfc011=df11.loc[df11['68. Children under 5 years who are stunted11 (%)']=='low']\n",
    "dfc111=df11.loc[df11['68. Children under 5 years who are stunted11 (%)']=='medium']\n",
    "dfc211=df11.loc[df11['68. Children under 5 years who are stunted11 (%)']=='high']\n",
    "\n",
    "df21=df_cluster_1.loc[df_cluster_1['cluster labels']==2]\n",
    "dfc021=df21.loc[df21['68. Children under 5 years who are stunted11 (%)']=='low']\n",
    "dfc121=df21.loc[df21['68. Children under 5 years who are stunted11 (%)']=='medium']\n",
    "dfc221=df21.loc[df21['68. Children under 5 years who are stunted11 (%)']=='high']\n",
    "\n",
    "df31=df_cluster_1.loc[df_cluster_1['cluster labels']==3]\n",
    "dfc031=df31.loc[df31['68. Children under 5 years who are stunted11 (%)']=='low']\n",
    "dfc131=df31.loc[df31['68. Children under 5 years who are stunted11 (%)']=='medium']\n",
    "dfc231=df31.loc[df31['68. Children under 5 years who are stunted11 (%)']=='high']"
   ]
  },
  {
   "cell_type": "code",
   "execution_count": 44,
   "metadata": {},
   "outputs": [
    {
     "data": {
      "image/png": "[encoded data removed]",
      "text/plain": [
       "<Figure size 432x288 with 1 Axes>"
      ]
     },
     "metadata": {
      "needs_background": "light"
     },
     "output_type": "display_data"
    },
    {
     "data": {
      "image/png": "[encoded data removed]",
      "text/plain": [
       "<Figure size 432x288 with 1 Axes>"
      ]
     },
     "metadata": {},
     "output_type": "display_data"
    }
   ],
   "source": [
    "# ###############################STACKED BAR PLOT##########################################################\n",
    "# y-axis in bold\n",
    "rc('font', weight='bold')\n",
    " \n",
    "# Values of each group\n",
    "bars1 = [dfc011['68. Children under 5 years who are stunted11 (%)'].value_counts().values.mean(),\n",
    "         dfc021['68. Children under 5 years who are stunted11 (%)'].value_counts().values.mean(),\n",
    "         dfc031['68. Children under 5 years who are stunted11 (%)'].value_counts().values.mean()]\n",
    "\n",
    "\n",
    "bars2 = [dfc111['68. Children under 5 years who are stunted11 (%)'].value_counts().values.mean(),\n",
    "        dfc121['68. Children under 5 years who are stunted11 (%)'].value_counts().values.mean(),\n",
    "        dfc131['68. Children under 5 years who are stunted11 (%)'].value_counts().values.mean()]\n",
    "\n",
    "\n",
    "bars3 = [dfc211['68. Children under 5 years who are stunted11 (%)'].value_counts().values.mean(),\n",
    "        dfc221['68. Children under 5 years who are stunted11 (%)'].value_counts().values.mean(),\n",
    "        dfc231['68. Children under 5 years who are stunted11 (%)'].value_counts().values.mean()]\n",
    " \n",
    "# Heights of bars1 + bars2\n",
    "bars = np.add(bars1, bars2).tolist()\n",
    " \n",
    "# The position of the bars on the x-axis\n",
    "r = [0,1,2]\n",
    " \n",
    "# Names of group and bar width\n",
    "names = ['low literecy','high literacy ','medium Literacy']\n",
    "barWidth = 0.5\n",
    " \n",
    "# Create brown bars\n",
    "plt.bar(r, bars1, color='xkcd:aquamarine', edgecolor='black', width=barWidth, label='Low % stunting')\n",
    "# Create green bars (middle), on top of the firs ones\n",
    "plt.bar(r, bars2, bottom=bars1, color= 'xkcd:goldenrod', edgecolor='black', width=barWidth, label='Medium % stunting')\n",
    "# Create green bars (top)\n",
    "plt.bar(r, bars3, bottom=bars, color='xkcd:maroon', edgecolor='black', width=barWidth, label='High % stunting')\n",
    " \n",
    "# Custom X axis\n",
    "plt.xticks(r, names, fontweight='bold')\n",
    "plt.xlabel(\"Literacy and Stunting \", weight='bold')\n",
    "plt.legend(loc=0, ncol=2)\n",
    "plt.savefig('./../Plots/RESULT PLOTS/plot9.png') \n",
    "# Show graphic\n",
    "plt.show()\n",
    "########################################### NESTED PIE CHART##################################################\n",
    "\n",
    "\n",
    "labels=['low Lit %', 'high Lit %','medium Lit %']\n",
    "sizes =[df11['cluster labels'].value_counts().values.mean(),\n",
    "        df21['cluster labels'].value_counts().values.mean(),\n",
    "        df31['cluster labels'].value_counts().values.mean()]\n",
    "labels_region = ['low','medium','high','low','medium','high','low','medium','high']\n",
    "sizes_contr = [dfc011['68. Children under 5 years who are stunted11 (%)'].value_counts().values.mean(),\n",
    "               dfc111['68. Children under 5 years who are stunted11 (%)'].value_counts().values.mean(),\n",
    "               dfc211['68. Children under 5 years who are stunted11 (%)'].value_counts().values.mean(),\n",
    "               dfc021['68. Children under 5 years who are stunted11 (%)'].value_counts().values.mean(),\n",
    "               dfc121['68. Children under 5 years who are stunted11 (%)'].value_counts().values.mean(),\n",
    "               dfc221['68. Children under 5 years who are stunted11 (%)'].value_counts().values.mean(),\n",
    "               dfc031['68. Children under 5 years who are stunted11 (%)'].value_counts().values.mean(),\n",
    "               dfc131['68. Children under 5 years who are stunted11 (%)'].value_counts().values.mean(),\n",
    "               dfc231['68. Children under 5 years who are stunted11 (%)'].value_counts().values.mean()]\n",
    "colors = ['xkcd:orchid', 'xkcd:chartreuse', 'xkcd:wheat']\n",
    "colors_region = ['xkcd:aquamarine', 'xkcd:goldenrod','xkcd:maroon',\n",
    "                 'xkcd:aquamarine', 'xkcd:goldenrod','xkcd:maroon',\n",
    "                'xkcd:aquamarine', 'xkcd:goldenrod','xkcd:maroon']\n",
    "explode = (0,0,0) \n",
    "explode_region = (0.1,0.1,0.1,0.1,0.1,0.1,0.1,0.1,0.1)\n",
    "#Plot\n",
    "plt.pie(sizes, labels=labels, colors=colors, startangle=90,frame=True, explode=explode,radius=5)\n",
    "plt.pie(sizes_contr,colors=colors_region,startangle=90, explode=explode_region,radius=3.5)\n",
    "#Draw circle\n",
    "centre_circle = plt.Circle((0,0),1.5,color='black', fc='white',linewidth=0)\n",
    "fig = plt.gcf()\n",
    "fig.gca().add_artist(centre_circle)\n",
    "plt.axis('equal')\n",
    "plt.tight_layout()\n",
    "plt.legend(loc=3)\n",
    "plt.title(\"Effect of Literacy on  Child Stunting \", weight='bold')\n",
    "plt.savefig('./../Plots/RESULT PLOTS/plot10.png')\n",
    "plt.show()"
   ]
  },
  {
   "cell_type": "markdown",
   "metadata": {},
   "source": [
    "## 2.8 Clustering on the basis of Women BMI "
   ]
  },
  {
   "cell_type": "code",
   "execution_count": 45,
   "metadata": {},
   "outputs": [
    {
     "name": "stderr",
     "output_type": "stream",
     "text": [
      "/opt/anaconda3/lib/python3.7/site-packages/ipykernel_launcher.py:3: SettingWithCopyWarning: \n",
      "A value is trying to be set on a copy of a slice from a DataFrame.\n",
      "Try using .loc[row_indexer,col_indexer] = value instead\n",
      "\n",
      "See the caveats in the documentation: http://pandas.pydata.org/pandas-docs/stable/user_guide/indexing.html#returning-a-view-versus-a-copy\n",
      "  This is separate from the ipykernel package so we can avoid doing imports until\n",
      "/opt/anaconda3/lib/python3.7/site-packages/ipykernel_launcher.py:4: SettingWithCopyWarning: \n",
      "A value is trying to be set on a copy of a slice from a DataFrame.\n",
      "Try using .loc[row_indexer,col_indexer] = value instead\n",
      "\n",
      "See the caveats in the documentation: http://pandas.pydata.org/pandas-docs/stable/user_guide/indexing.html#returning-a-view-versus-a-copy\n",
      "  after removing the cwd from sys.path.\n"
     ]
    }
   ],
   "source": [
    "\n",
    "df_cluster_1 = df_normalised[['72. Women whose Body Mass Index (BMI) is below normal (BMI <18.5 kg/m2) (%)' ] ]\n",
    "cluster_labels, cluster_centers = KMeansClustering(df_cluster_1, 3)\n",
    "df_cluster_1['cluster labels'] = cluster_labels\n",
    "df_cluster_1['68. Children under 5 years who are stunted11 (%)'] = stunting_discrete"
   ]
  },
  {
   "cell_type": "code",
   "execution_count": 46,
   "metadata": {},
   "outputs": [
    {
     "name": "stdout",
     "output_type": "stream",
     "text": [
      "[[1.1349147032809994], [-1.149341355867153], [0.013135183686508841]]\n"
     ]
    }
   ],
   "source": [
    "print(cluster_centers)\n"
   ]
  },
  {
   "cell_type": "markdown",
   "metadata": {},
   "source": [
    "**The cluster center values (centroids) indicate that the clusters 0 , 1 and 2 correspond to districts having high, low, medium % of women having below normal BMI**\n",
    "<br>\n",
    "**Now, for each cluster, let us see the proportion of districts that have high, low, and medium staunting (discrete values taken from  equal frequency discretised data)**"
   ]
  },
  {
   "cell_type": "code",
   "execution_count": 47,
   "metadata": {},
   "outputs": [
    {
     "name": "stdout",
     "output_type": "stream",
     "text": [
      "C0\n",
      "0.03836930455635491\n",
      "0.3213429256594724\n",
      "0.6402877697841727\n",
      "C1\n",
      "0.6786570743405276\n",
      "0.2637889688249401\n",
      "0.05755395683453238\n",
      "C2\n",
      "0.29694323144104806\n",
      "0.4039301310043668\n",
      "0.29912663755458513\n"
     ]
    }
   ],
   "source": [
    "dfC0 = df_cluster_1[df_cluster_1['cluster labels']==1]\n",
    "dfC1 = df_cluster_1[df_cluster_1['cluster labels']==2]\n",
    "dfC2 = df_cluster_1[df_cluster_1['cluster labels']==3]\n",
    "\n",
    "l,m,h=0,0,0\n",
    "\n",
    "l = dfC0[dfC0['68. Children under 5 years who are stunted11 (%)']=='low'].shape[0]/dfC0.shape[0]\n",
    "m = dfC0[dfC0['68. Children under 5 years who are stunted11 (%)']=='medium'].shape[0]/dfC0.shape[0]\n",
    "h = dfC0[dfC0['68. Children under 5 years who are stunted11 (%)']=='high'].shape[0]/dfC0.shape[0]\n",
    "print(\"C0\")\n",
    "print(l)\n",
    "print(m)\n",
    "print(h)\n",
    "\n",
    "l = dfC1[dfC1['68. Children under 5 years who are stunted11 (%)']=='low'].shape[0]/dfC1.shape[0]\n",
    "m = dfC1[dfC1['68. Children under 5 years who are stunted11 (%)']=='medium'].shape[0]/dfC1.shape[0]\n",
    "h = dfC1[dfC1['68. Children under 5 years who are stunted11 (%)']=='high'].shape[0]/dfC1.shape[0]\n",
    "print(\"C1\")\n",
    "print(l)\n",
    "print(m)\n",
    "print(h)\n",
    "\n",
    "\n",
    "l = dfC2[dfC2['68. Children under 5 years who are stunted11 (%)']=='low'].shape[0]/dfC2.shape[0]\n",
    "m = dfC2[dfC2['68. Children under 5 years who are stunted11 (%)']=='medium'].shape[0]/dfC2.shape[0]\n",
    "h = dfC2[dfC2['68. Children under 5 years who are stunted11 (%)']=='high'].shape[0]/dfC2.shape[0]\n",
    "print(\"C2\")\n",
    "print(l)\n",
    "print(m)\n",
    "print(h)"
   ]
  },
  {
   "cell_type": "markdown",
   "metadata": {},
   "source": [
    "**It is clear of all the points that belong to cluster 0 (corresponding to 'high' % of women having below normal BMI ), 64% have 'high' stunting rates, and ONLY 3.8% have 'low' stunting rates. On the other hand, of all the points that belong to cluster 1 (corresponding to 'low' % of women having below normal BMI ), 67.8% have 'low' stunting rates, and ONLY 5.7% have 'high' stunting rates. \n",
    "**We can therefore conclude that there is a strong association between mother's nutritional health (BMI) and stunting in children**\n",
    "\n"
   ]
  },
  {
   "cell_type": "code",
   "execution_count": 48,
   "metadata": {},
   "outputs": [],
   "source": [
    "df11=df_cluster_1.loc[df_cluster_1['cluster labels']==1]\n",
    "dfc011=df11.loc[df11['68. Children under 5 years who are stunted11 (%)']=='low']\n",
    "dfc111=df11.loc[df11['68. Children under 5 years who are stunted11 (%)']=='medium']\n",
    "dfc211=df11.loc[df11['68. Children under 5 years who are stunted11 (%)']=='high']\n",
    "\n",
    "df21=df_cluster_1.loc[df_cluster_1['cluster labels']==2]\n",
    "dfc021=df21.loc[df21['68. Children under 5 years who are stunted11 (%)']=='low']\n",
    "dfc121=df21.loc[df21['68. Children under 5 years who are stunted11 (%)']=='medium']\n",
    "dfc221=df21.loc[df21['68. Children under 5 years who are stunted11 (%)']=='high']\n",
    "\n",
    "df31=df_cluster_1.loc[df_cluster_1['cluster labels']==3]\n",
    "dfc031=df31.loc[df31['68. Children under 5 years who are stunted11 (%)']=='low']\n",
    "dfc131=df31.loc[df31['68. Children under 5 years who are stunted11 (%)']=='medium']\n",
    "dfc231=df31.loc[df31['68. Children under 5 years who are stunted11 (%)']=='high']"
   ]
  },
  {
   "cell_type": "code",
   "execution_count": 49,
   "metadata": {},
   "outputs": [
    {
     "data": {
      "image/png": "[encoded data removed]",
      "text/plain": [
       "<Figure size 432x288 with 1 Axes>"
      ]
     },
     "metadata": {
      "needs_background": "light"
     },
     "output_type": "display_data"
    },
    {
     "data": {
      "image/png": "[encoded data removed]",
      "text/plain": [
       "<Figure size 432x288 with 1 Axes>"
      ]
     },
     "metadata": {},
     "output_type": "display_data"
    }
   ],
   "source": [
    "# ###############################STACKED BAR PLOT##########################################################\n",
    "# y-axis in bold\n",
    "rc('font', weight='bold')\n",
    " \n",
    "# Values of each group\n",
    "bars1 = [dfc011['68. Children under 5 years who are stunted11 (%)'].value_counts().values.mean(),\n",
    "         dfc021['68. Children under 5 years who are stunted11 (%)'].value_counts().values.mean(),\n",
    "         dfc031['68. Children under 5 years who are stunted11 (%)'].value_counts().values.mean()]\n",
    "\n",
    "\n",
    "bars2 = [dfc111['68. Children under 5 years who are stunted11 (%)'].value_counts().values.mean(),\n",
    "        dfc121['68. Children under 5 years who are stunted11 (%)'].value_counts().values.mean(),\n",
    "        dfc131['68. Children under 5 years who are stunted11 (%)'].value_counts().values.mean()]\n",
    "\n",
    "\n",
    "bars3 = [dfc211['68. Children under 5 years who are stunted11 (%)'].value_counts().values.mean(),\n",
    "        dfc221['68. Children under 5 years who are stunted11 (%)'].value_counts().values.mean(),\n",
    "        dfc231['68. Children under 5 years who are stunted11 (%)'].value_counts().values.mean()]\n",
    " \n",
    "# Heights of bars1 + bars2\n",
    "bars = np.add(bars1, bars2).tolist()\n",
    " \n",
    "# The position of the bars on the x-axis\n",
    "r = [0,1,2]\n",
    " \n",
    "# Names of group and bar width\n",
    "names = ['High% bn BMI','Low% bn BMI', 'medium% bn BMI']\n",
    "barWidth = 0.5\n",
    " \n",
    "# Create brown bars\n",
    "plt.bar(r, bars1, color='xkcd:teal', edgecolor='black', width=barWidth, label='low % stunting')\n",
    "# Create green bars (middle), on top of the firs ones\n",
    "plt.bar(r, bars2, bottom=bars1, color= 'xkcd:coral', edgecolor='black', width=barWidth, label='Medium % stunting')\n",
    "# Create green bars (top)\n",
    "plt.bar(r, bars3, bottom=bars, color='xkcd:gold', edgecolor='black', width=barWidth, label='High % stunting')\n",
    " \n",
    "# Custom X axis\n",
    "plt.xticks(r, names, fontweight='bold')\n",
    "plt.xlabel(\"%age of below normal BMI for women and Stunting \", weight='bold')\n",
    "plt.legend(loc=0, ncol=2)\n",
    "plt.savefig('./../Plots/RESULT PLOTS/plot11.png')\n",
    "# Show graphic\n",
    "plt.show()\n",
    "\n",
    "\n",
    "\n",
    "\n",
    "\n",
    "\n",
    "#######################NESTED PIE CHART ##################\n",
    "labels=['High% bn BMI','Low% bn BMI', 'medium% bn BMI']           \n",
    "sizes =[df11['cluster labels'].value_counts().values.mean(),\n",
    "        df21['cluster labels'].value_counts().values.mean(),\n",
    "        df31['cluster labels'].value_counts().values.mean()]\n",
    "labels_region = ['low','medium','high','low','medium','high','low','medium','high']\n",
    "sizes_contr = [dfc011['68. Children under 5 years who are stunted11 (%)'].value_counts().values.mean(),\n",
    "               dfc111['68. Children under 5 years who are stunted11 (%)'].value_counts().values.mean(),\n",
    "               dfc211['68. Children under 5 years who are stunted11 (%)'].value_counts().values.mean(),\n",
    "               dfc021['68. Children under 5 years who are stunted11 (%)'].value_counts().values.mean(),\n",
    "               dfc121['68. Children under 5 years who are stunted11 (%)'].value_counts().values.mean(),\n",
    "               dfc221['68. Children under 5 years who are stunted11 (%)'].value_counts().values.mean(),\n",
    "               dfc031['68. Children under 5 years who are stunted11 (%)'].value_counts().values.mean(),\n",
    "               dfc131['68. Children under 5 years who are stunted11 (%)'].value_counts().values.mean(),\n",
    "               dfc231['68. Children under 5 years who are stunted11 (%)'].value_counts().values.mean()]\n",
    "colors = ['xkcd:plum','xkcd:lightblue','xkcd:lime']\n",
    "colors_region = ['xkcd:teal','xkcd:coral','xkcd:gold',\n",
    "                 'xkcd:teal','xkcd:coral','xkcd:gold',\n",
    "                 'xkcd:teal','xkcd:coral','xkcd:gold']\n",
    "explode = (0,0,0) \n",
    "explode_region = (0.1,0.1,0.1,0.1,0.1,0.1,0.1,0.1,0.1)\n",
    "#Plot\n",
    "plt.pie(sizes, labels=labels, colors=colors, startangle=90,frame=True, explode=explode,radius=5)\n",
    "plt.pie(sizes_contr,colors=colors_region,startangle=90, explode=explode_region,radius=3.5)\n",
    "#Draw circle\n",
    "centre_circle = plt.Circle((0,0),1.5,color='black', fc='white',linewidth=0)\n",
    "fig = plt.gcf()\n",
    "fig.gca().add_artist(centre_circle)\n",
    "plt.axis('equal')\n",
    "plt.tight_layout()\n",
    "plt.legend(loc=4, ncol=3)\n",
    "plt.title(\"% of below normal BMI (WOMEN) and Child Stunting \", weight='bold')\n",
    "plt.savefig('./../Plots/RESULT PLOTS/plot12.png')\n",
    "plt.show()"
   ]
  },
  {
   "cell_type": "markdown",
   "metadata": {},
   "source": [
    "## 2.9 Clustering on the basis of % of Women who consumed iron folic acid during pregnancy"
   ]
  },
  {
   "cell_type": "code",
   "execution_count": 50,
   "metadata": {},
   "outputs": [
    {
     "name": "stderr",
     "output_type": "stream",
     "text": [
      "/opt/anaconda3/lib/python3.7/site-packages/ipykernel_launcher.py:3: SettingWithCopyWarning: \n",
      "A value is trying to be set on a copy of a slice from a DataFrame.\n",
      "Try using .loc[row_indexer,col_indexer] = value instead\n",
      "\n",
      "See the caveats in the documentation: http://pandas.pydata.org/pandas-docs/stable/user_guide/indexing.html#returning-a-view-versus-a-copy\n",
      "  This is separate from the ipykernel package so we can avoid doing imports until\n",
      "/opt/anaconda3/lib/python3.7/site-packages/ipykernel_launcher.py:4: SettingWithCopyWarning: \n",
      "A value is trying to be set on a copy of a slice from a DataFrame.\n",
      "Try using .loc[row_indexer,col_indexer] = value instead\n",
      "\n",
      "See the caveats in the documentation: http://pandas.pydata.org/pandas-docs/stable/user_guide/indexing.html#returning-a-view-versus-a-copy\n",
      "  after removing the cwd from sys.path.\n"
     ]
    }
   ],
   "source": [
    "\n",
    "df_cluster_1 = df_normalised[['32. Mothers who consumed iron folic acid for 100 days or more when they were pregnant (%)' ] ]\n",
    "cluster_labels, cluster_centers = KMeansClustering(df_cluster_1, 3)\n",
    "df_cluster_1['cluster labels'] = cluster_labels\n",
    "df_cluster_1['68. Children under 5 years who are stunted11 (%)'] = stunting_discrete"
   ]
  },
  {
   "cell_type": "code",
   "execution_count": 51,
   "metadata": {},
   "outputs": [
    {
     "name": "stdout",
     "output_type": "stream",
     "text": [
      "[[-0.8737391182973068], [1.5335891255723677], [0.3524566880201994]]\n"
     ]
    }
   ],
   "source": [
    "print(cluster_centers)\n"
   ]
  },
  {
   "cell_type": "markdown",
   "metadata": {},
   "source": [
    "**The cluster center values (centroids) indicate that the clusters 0 , 1 and 2 correspond to districts having low, high, medium % of women who consumed iron folic acid during pregnancy**\n",
    "<br>\n",
    "**Now, for each cluster, let us see the proportion of districts that have high, low, and medium staunting (discrete values taken from  equal frequency discretised data)**"
   ]
  },
  {
   "cell_type": "code",
   "execution_count": 52,
   "metadata": {},
   "outputs": [
    {
     "name": "stdout",
     "output_type": "stream",
     "text": [
      "C0\n",
      "0.16045380875202594\n",
      "0.34035656401944897\n",
      "0.4991896272285251\n",
      "C1\n",
      "0.6901960784313725\n",
      "0.2235294117647059\n",
      "0.08627450980392157\n",
      "C2\n",
      "0.38095238095238093\n",
      "0.38571428571428573\n",
      "0.23333333333333334\n"
     ]
    }
   ],
   "source": [
    "dfC0 = df_cluster_1[df_cluster_1['cluster labels']==1]\n",
    "dfC1 = df_cluster_1[df_cluster_1['cluster labels']==2]\n",
    "dfC2 = df_cluster_1[df_cluster_1['cluster labels']==3]\n",
    "\n",
    "l,m,h=0,0,0\n",
    "\n",
    "l = dfC0[dfC0['68. Children under 5 years who are stunted11 (%)']=='low'].shape[0]/dfC0.shape[0]\n",
    "m = dfC0[dfC0['68. Children under 5 years who are stunted11 (%)']=='medium'].shape[0]/dfC0.shape[0]\n",
    "h = dfC0[dfC0['68. Children under 5 years who are stunted11 (%)']=='high'].shape[0]/dfC0.shape[0]\n",
    "print(\"C0\")\n",
    "print(l)\n",
    "print(m)\n",
    "print(h)\n",
    "\n",
    "l = dfC1[dfC1['68. Children under 5 years who are stunted11 (%)']=='low'].shape[0]/dfC1.shape[0]\n",
    "m = dfC1[dfC1['68. Children under 5 years who are stunted11 (%)']=='medium'].shape[0]/dfC1.shape[0]\n",
    "h = dfC1[dfC1['68. Children under 5 years who are stunted11 (%)']=='high'].shape[0]/dfC1.shape[0]\n",
    "print(\"C1\")\n",
    "print(l)\n",
    "print(m)\n",
    "print(h)\n",
    "\n",
    "\n",
    "l = dfC2[dfC2['68. Children under 5 years who are stunted11 (%)']=='low'].shape[0]/dfC2.shape[0]\n",
    "m = dfC2[dfC2['68. Children under 5 years who are stunted11 (%)']=='medium'].shape[0]/dfC2.shape[0]\n",
    "h = dfC2[dfC2['68. Children under 5 years who are stunted11 (%)']=='high'].shape[0]/dfC2.shape[0]\n",
    "print(\"C2\")\n",
    "print(l)\n",
    "print(m)\n",
    "print(h)"
   ]
  },
  {
   "cell_type": "markdown",
   "metadata": {},
   "source": [
    "**It is clear of all the points that belong to cluster 1 (corresponding to 'high' % of women who consumed iron folic acid during pregnancy ), 69.01% have 'low' stunting rates, and ONLY 8.62% have 'high' stunting rates. \n",
    "**We can therefore conclude that there is a strong association between mother's nutritional health during pregnancy and stunting in children**\n",
    "\n"
   ]
  },
  {
   "cell_type": "code",
   "execution_count": 53,
   "metadata": {},
   "outputs": [],
   "source": [
    "df11=df_cluster_1.loc[df_cluster_1['cluster labels']==1]\n",
    "dfc011=df11.loc[df11['68. Children under 5 years who are stunted11 (%)']=='low']\n",
    "dfc111=df11.loc[df11['68. Children under 5 years who are stunted11 (%)']=='medium']\n",
    "dfc211=df11.loc[df11['68. Children under 5 years who are stunted11 (%)']=='high']\n",
    "\n",
    "df21=df_cluster_1.loc[df_cluster_1['cluster labels']==2]\n",
    "dfc021=df21.loc[df21['68. Children under 5 years who are stunted11 (%)']=='low']\n",
    "dfc121=df21.loc[df21['68. Children under 5 years who are stunted11 (%)']=='medium']\n",
    "dfc221=df21.loc[df21['68. Children under 5 years who are stunted11 (%)']=='high']\n",
    "\n",
    "df31=df_cluster_1.loc[df_cluster_1['cluster labels']==3]\n",
    "dfc031=df31.loc[df31['68. Children under 5 years who are stunted11 (%)']=='low']\n",
    "dfc131=df31.loc[df31['68. Children under 5 years who are stunted11 (%)']=='medium']\n",
    "dfc231=df31.loc[df31['68. Children under 5 years who are stunted11 (%)']=='high']"
   ]
  },
  {
   "cell_type": "code",
   "execution_count": 54,
   "metadata": {},
   "outputs": [
    {
     "data": {
      "image/png": "[encoded data removed]",
      "text/plain": [
       "<Figure size 432x288 with 1 Axes>"
      ]
     },
     "metadata": {
      "needs_background": "light"
     },
     "output_type": "display_data"
    },
    {
     "data": {
      "image/png": "[encoded data removed]",
      "text/plain": [
       "<Figure size 432x288 with 1 Axes>"
      ]
     },
     "metadata": {},
     "output_type": "display_data"
    }
   ],
   "source": [
    "# ###############################STACKED BAR PLOT##########################################################\n",
    "# y-axis in bold\n",
    "rc('font', weight='bold')\n",
    " \n",
    "# Values of each group\n",
    "bars1 = [dfc011['68. Children under 5 years who are stunted11 (%)'].value_counts().values.mean(),\n",
    "         dfc021['68. Children under 5 years who are stunted11 (%)'].value_counts().values.mean(),\n",
    "         dfc031['68. Children under 5 years who are stunted11 (%)'].value_counts().values.mean()]\n",
    "\n",
    "\n",
    "bars2 = [dfc111['68. Children under 5 years who are stunted11 (%)'].value_counts().values.mean(),\n",
    "        dfc121['68. Children under 5 years who are stunted11 (%)'].value_counts().values.mean(),\n",
    "        dfc131['68. Children under 5 years who are stunted11 (%)'].value_counts().values.mean()]\n",
    "\n",
    "\n",
    "bars3 = [dfc211['68. Children under 5 years who are stunted11 (%)'].value_counts().values.mean(),\n",
    "        dfc221['68. Children under 5 years who are stunted11 (%)'].value_counts().values.mean(),\n",
    "        dfc231['68. Children under 5 years who are stunted11 (%)'].value_counts().values.mean()]\n",
    " \n",
    "# Heights of bars1 + bars2\n",
    "bars = np.add(bars1, bars2).tolist()\n",
    " \n",
    "# The position of the bars on the x-axis\n",
    "r = [0,1,2]\n",
    " \n",
    "# Names of group and bar width\n",
    "names = ['low %',  'high %','medium %']\n",
    "barWidth = 0.5\n",
    " \n",
    "# Create brown bars\n",
    "plt.bar(r, bars1, color='xkcd:sienna', edgecolor='black', width=barWidth, label='low % stunting')\n",
    "# Create green bars (middle), on top of the firs ones\n",
    "plt.bar(r, bars2, bottom=bars1, color= 'xkcd:azure', edgecolor='black', width=barWidth, label='Medium % stunting')\n",
    "# Create green bars (top)\n",
    "plt.bar(r, bars3, bottom=bars, color='xkcd:lime', edgecolor='black', width=barWidth, label='High % stunting')\n",
    " \n",
    "# Custom X axis\n",
    "plt.xticks(r, names, fontweight='bold')\n",
    "plt.xlabel(\"% age of womne who took folic acid and its effect on stunting\", weight='bold')\n",
    "plt.legend(loc=0, ncol=2)\n",
    "plt.savefig('./../Plots/RESULT PLOTS/plot13.png') \n",
    "# Show graphic\n",
    "plt.show()\n",
    "\n",
    "\n",
    "\n",
    "\n",
    "\n",
    "\n",
    "####################Nested pie plot############################################\n",
    "labels=['low %',  'high %','medium %']\n",
    "sizes =[df11['cluster labels'].value_counts().values.mean(),\n",
    "        df21['cluster labels'].value_counts().values.mean(),\n",
    "        df31['cluster labels'].value_counts().values.mean()]\n",
    "labels_region = ['low','medium','high','low','medium','high','low','medium','high']\n",
    "sizes_contr = [dfc011['68. Children under 5 years who are stunted11 (%)'].value_counts().values.mean(),\n",
    "               dfc111['68. Children under 5 years who are stunted11 (%)'].value_counts().values.mean(),\n",
    "               dfc211['68. Children under 5 years who are stunted11 (%)'].value_counts().values.mean(),\n",
    "               dfc021['68. Children under 5 years who are stunted11 (%)'].value_counts().values.mean(),\n",
    "               dfc121['68. Children under 5 years who are stunted11 (%)'].value_counts().values.mean(),\n",
    "               dfc221['68. Children under 5 years who are stunted11 (%)'].value_counts().values.mean(),\n",
    "               dfc031['68. Children under 5 years who are stunted11 (%)'].value_counts().values.mean(),\n",
    "               dfc131['68. Children under 5 years who are stunted11 (%)'].value_counts().values.mean(),\n",
    "               dfc231['68. Children under 5 years who are stunted11 (%)'].value_counts().values.mean()]\n",
    "colors = ['xkcd:beige','xkcd:cyan','xkcd:pink']\n",
    "colors_region = ['xkcd:sienna','xkcd:azure','xkcd:lime',\n",
    "                 'xkcd:sienna','xkcd:azure','xkcd:lime',\n",
    "                'xkcd:sienna','xkcd:azure','xkcd:lime']\n",
    "explode = (0,0,0) \n",
    "explode_region = (0.1,0.1,0.1,0.1,0.1,0.1,0.1,0.1,0.1)\n",
    "#Plot\n",
    "plt.pie(sizes, labels=labels, colors=colors, startangle=90,frame=True, explode=explode,radius=5)\n",
    "plt.pie(sizes_contr,colors=colors_region,startangle=90, explode=explode_region,radius=3.5)\n",
    "#Draw circle\n",
    "centre_circle = plt.Circle((0,0),1.5,color='black', fc='white',linewidth=0)\n",
    "fig = plt.gcf()\n",
    "fig.gca().add_artist(centre_circle)\n",
    "plt.axis('equal')\n",
    "plt.tight_layout()\n",
    "plt.legend( loc=3)\n",
    "plt.title(\"%Women who took folic acid and Child Stunting \", weight='bold')\n",
    "plt.savefig('./../Plots/RESULT PLOTS/plot14.png')\n",
    "plt.show()"
   ]
  },
  {
   "cell_type": "markdown",
   "metadata": {},
   "source": [
    "## 2.10 Clustering on the basis of % of Women who are anaemic"
   ]
  },
  {
   "cell_type": "code",
   "execution_count": 55,
   "metadata": {},
   "outputs": [
    {
     "name": "stderr",
     "output_type": "stream",
     "text": [
      "/opt/anaconda3/lib/python3.7/site-packages/ipykernel_launcher.py:3: SettingWithCopyWarning: \n",
      "A value is trying to be set on a copy of a slice from a DataFrame.\n",
      "Try using .loc[row_indexer,col_indexer] = value instead\n",
      "\n",
      "See the caveats in the documentation: http://pandas.pydata.org/pandas-docs/stable/user_guide/indexing.html#returning-a-view-versus-a-copy\n",
      "  This is separate from the ipykernel package so we can avoid doing imports until\n",
      "/opt/anaconda3/lib/python3.7/site-packages/ipykernel_launcher.py:4: SettingWithCopyWarning: \n",
      "A value is trying to be set on a copy of a slice from a DataFrame.\n",
      "Try using .loc[row_indexer,col_indexer] = value instead\n",
      "\n",
      "See the caveats in the documentation: http://pandas.pydata.org/pandas-docs/stable/user_guide/indexing.html#returning-a-view-versus-a-copy\n",
      "  after removing the cwd from sys.path.\n"
     ]
    }
   ],
   "source": [
    "\n",
    "df_cluster_1 = df_normalised[['79. All women age 15-49 years who are anaemic (%)' ] ]\n",
    "cluster_labels, cluster_centers = KMeansClustering(df_cluster_1, 3)\n",
    "df_cluster_1['cluster labels'] = cluster_labels\n",
    "df_cluster_1['68. Children under 5 years who are stunted11 (%)'] = stunting_discrete"
   ]
  },
  {
   "cell_type": "code",
   "execution_count": 56,
   "metadata": {},
   "outputs": [
    {
     "name": "stdout",
     "output_type": "stream",
     "text": [
      "[[-0.11988625306067659], [1.0006524760437492], [-1.4101308982294665]]\n"
     ]
    }
   ],
   "source": [
    "print(cluster_centers)\n"
   ]
  },
  {
   "cell_type": "markdown",
   "metadata": {},
   "source": [
    "**The cluster center values (centroids) indicate that the clusters 0 , 1 and 2 correspond to districts having medium, high, low % of women who are anemic**\n",
    "<br>\n",
    "**Now, for each cluster, let us see the proportion of districts that have high, low, and medium staunting (discrete values taken from  equal frequency discretised data)**"
   ]
  },
  {
   "cell_type": "code",
   "execution_count": 57,
   "metadata": {},
   "outputs": [
    {
     "name": "stdout",
     "output_type": "stream",
     "text": [
      "C0\n",
      "0.3458646616541353\n",
      "0.32894736842105265\n",
      "0.325187969924812\n",
      "C1\n",
      "0.23354564755838642\n",
      "0.3205944798301486\n",
      "0.445859872611465\n",
      "C2\n",
      "0.48788927335640137\n",
      "0.356401384083045\n",
      "0.15570934256055363\n"
     ]
    }
   ],
   "source": [
    "dfC0 = df_cluster_1[df_cluster_1['cluster labels']==1]\n",
    "dfC1 = df_cluster_1[df_cluster_1['cluster labels']==2]\n",
    "dfC2 = df_cluster_1[df_cluster_1['cluster labels']==3]\n",
    "\n",
    "l,m,h=0,0,0\n",
    "\n",
    "l = dfC0[dfC0['68. Children under 5 years who are stunted11 (%)']=='low'].shape[0]/dfC0.shape[0]\n",
    "m = dfC0[dfC0['68. Children under 5 years who are stunted11 (%)']=='medium'].shape[0]/dfC0.shape[0]\n",
    "h = dfC0[dfC0['68. Children under 5 years who are stunted11 (%)']=='high'].shape[0]/dfC0.shape[0]\n",
    "print(\"C0\")\n",
    "print(l)\n",
    "print(m)\n",
    "print(h)\n",
    "\n",
    "l = dfC1[dfC1['68. Children under 5 years who are stunted11 (%)']=='low'].shape[0]/dfC1.shape[0]\n",
    "m = dfC1[dfC1['68. Children under 5 years who are stunted11 (%)']=='medium'].shape[0]/dfC1.shape[0]\n",
    "h = dfC1[dfC1['68. Children under 5 years who are stunted11 (%)']=='high'].shape[0]/dfC1.shape[0]\n",
    "print(\"C1\")\n",
    "print(l)\n",
    "print(m)\n",
    "print(h)\n",
    "\n",
    "\n",
    "l = dfC2[dfC2['68. Children under 5 years who are stunted11 (%)']=='low'].shape[0]/dfC2.shape[0]\n",
    "m = dfC2[dfC2['68. Children under 5 years who are stunted11 (%)']=='medium'].shape[0]/dfC2.shape[0]\n",
    "h = dfC2[dfC2['68. Children under 5 years who are stunted11 (%)']=='high'].shape[0]/dfC2.shape[0]\n",
    "print(\"C2\")\n",
    "print(l)\n",
    "print(m)\n",
    "print(h)"
   ]
  },
  {
   "cell_type": "markdown",
   "metadata": {},
   "source": [
    "**It is clear of all the points that belong to cluster 2 (corresponding to 'low' % of women who are anaemic), 48.6% have 'low' stunting rates, and 15.5% have 'high' stunting rates. \n",
    "**We can therefore conclude that anemia in women is not as indicative of stunting in children as other factors like sanitation.**\n",
    "\n"
   ]
  },
  {
   "cell_type": "code",
   "execution_count": 58,
   "metadata": {},
   "outputs": [],
   "source": [
    "df11=df_cluster_1.loc[df_cluster_1['cluster labels']==1]\n",
    "dfc011=df11.loc[df11['68. Children under 5 years who are stunted11 (%)']=='low']\n",
    "dfc111=df11.loc[df11['68. Children under 5 years who are stunted11 (%)']=='medium']\n",
    "dfc211=df11.loc[df11['68. Children under 5 years who are stunted11 (%)']=='high']\n",
    "\n",
    "df21=df_cluster_1.loc[df_cluster_1['cluster labels']==2]\n",
    "dfc021=df21.loc[df21['68. Children under 5 years who are stunted11 (%)']=='low']\n",
    "dfc121=df21.loc[df21['68. Children under 5 years who are stunted11 (%)']=='medium']\n",
    "dfc221=df21.loc[df21['68. Children under 5 years who are stunted11 (%)']=='high']\n",
    "\n",
    "df31=df_cluster_1.loc[df_cluster_1['cluster labels']==3]\n",
    "dfc031=df31.loc[df31['68. Children under 5 years who are stunted11 (%)']=='low']\n",
    "dfc131=df31.loc[df31['68. Children under 5 years who are stunted11 (%)']=='medium']\n",
    "dfc231=df31.loc[df31['68. Children under 5 years who are stunted11 (%)']=='high']"
   ]
  },
  {
   "cell_type": "code",
   "execution_count": 59,
   "metadata": {},
   "outputs": [
    {
     "data": {
      "image/png": "[encoded data removed]",
      "text/plain": [
       "<Figure size 432x288 with 1 Axes>"
      ]
     },
     "metadata": {
      "needs_background": "light"
     },
     "output_type": "display_data"
    },
    {
     "data": {
      "image/png": "[encoded data removed]",
      "text/plain": [
       "<Figure size 432x288 with 1 Axes>"
      ]
     },
     "metadata": {},
     "output_type": "display_data"
    }
   ],
   "source": [
    "# ###############################STACKED BAR PLOT##########################################################\n",
    "# y-axis in bold\n",
    "rc('font', weight='bold')\n",
    " \n",
    "# Values of each group\n",
    "bars1 = [dfc011['68. Children under 5 years who are stunted11 (%)'].value_counts().values.mean(),\n",
    "         dfc021['68. Children under 5 years who are stunted11 (%)'].value_counts().values.mean(),\n",
    "         dfc031['68. Children under 5 years who are stunted11 (%)'].value_counts().values.mean()]\n",
    "\n",
    "\n",
    "bars2 = [dfc111['68. Children under 5 years who are stunted11 (%)'].value_counts().values.mean(),\n",
    "        dfc121['68. Children under 5 years who are stunted11 (%)'].value_counts().values.mean(),\n",
    "        dfc131['68. Children under 5 years who are stunted11 (%)'].value_counts().values.mean()]\n",
    "\n",
    "\n",
    "bars3 = [dfc211['68. Children under 5 years who are stunted11 (%)'].value_counts().values.mean(),\n",
    "        dfc221['68. Children under 5 years who are stunted11 (%)'].value_counts().values.mean(),\n",
    "        dfc231['68. Children under 5 years who are stunted11 (%)'].value_counts().values.mean()]\n",
    " \n",
    "# Heights of bars1 + bars2\n",
    "bars = np.add(bars1, bars2).tolist()\n",
    " \n",
    "# The position of the bars on the x-axis\n",
    "r = [0,1,2]\n",
    " \n",
    "# Names of group and bar width\n",
    "names = ['Medium% ','High % ','Low %']\n",
    "barWidth = 0.5\n",
    " \n",
    "# Create brown bars\n",
    "plt.bar(r, bars1, color='xkcd:lavender', edgecolor='black', width=barWidth, label='low % stunting')\n",
    "# Create green bars (middle), on top of the firs ones\n",
    "plt.bar(r, bars2, bottom=bars1, color= 'xkcd:turquoise', edgecolor='black', width=barWidth, label='Medium % stunting')\n",
    "# Create green bars (top)\n",
    "plt.bar(r, bars3, bottom=bars, color='xkcd:lime', edgecolor='black', width=barWidth, label='High % stunting')\n",
    " \n",
    "# Custom X axis\n",
    "plt.xticks(r, names, fontweight='bold')\n",
    "plt.xlabel(\"Anaemia in women and its effect on stunting\", weight='bold')\n",
    "plt.legend(loc=0, ncol=2)\n",
    "plt.savefig('./../Plots/RESULT PLOTS/plot15.png') \n",
    "# Show graphic\n",
    "plt.show()\n",
    "\n",
    "\n",
    "\n",
    "\n",
    "\n",
    "\n",
    "\n",
    "################################### NESTED PIE CHART########################################\n",
    "labels=['Medium', 'high','low']\n",
    "sizes =[df11['cluster labels'].value_counts().values.mean(),\n",
    "        df21['cluster labels'].value_counts().values.mean(),\n",
    "        df31['cluster labels'].value_counts().values.mean()]\n",
    "labels_region = ['low','medium','high','low','medium','high','low','medium','high']\n",
    "sizes_contr = [dfc011['68. Children under 5 years who are stunted11 (%)'].value_counts().values.mean(),\n",
    "               dfc111['68. Children under 5 years who are stunted11 (%)'].value_counts().values.mean(),\n",
    "               dfc211['68. Children under 5 years who are stunted11 (%)'].value_counts().values.mean(),\n",
    "               dfc021['68. Children under 5 years who are stunted11 (%)'].value_counts().values.mean(),\n",
    "               dfc121['68. Children under 5 years who are stunted11 (%)'].value_counts().values.mean(),\n",
    "               dfc221['68. Children under 5 years who are stunted11 (%)'].value_counts().values.mean(),\n",
    "               dfc031['68. Children under 5 years who are stunted11 (%)'].value_counts().values.mean(),\n",
    "               dfc131['68. Children under 5 years who are stunted11 (%)'].value_counts().values.mean(),\n",
    "               dfc231['68. Children under 5 years who are stunted11 (%)'].value_counts().values.mean()]\n",
    "colors = ['goldenrod', 'xkcd:plum', 'salmon']\n",
    "colors_region = ['xkcd:lavender','xkcd:turquoise','xkcd:lime',\n",
    "                 'xkcd:lavender','xkcd:turquoise','xkcd:lime',\n",
    "                 'xkcd:lavender','xkcd:turquoise','xkcd:lime']\n",
    "explode = (0,0,0) \n",
    "explode_region = (0.1,0.1,0.1,0.1,0.1,0.1,0.1,0.1,0.1)\n",
    "#Plot\n",
    "plt.pie(sizes, labels=labels, colors=colors, startangle=90,frame=True, explode=explode,radius=5)\n",
    "plt.pie(sizes_contr,colors=colors_region,startangle=90, explode=explode_region,radius=3.5)\n",
    "#Draw circle\n",
    "centre_circle = plt.Circle((0,0),1.5,color='black', fc='white',linewidth=0)\n",
    "fig = plt.gcf()\n",
    "fig.gca().add_artist(centre_circle)\n",
    "plt.axis('equal')\n",
    "plt.tight_layout()\n",
    "plt.legend()\n",
    "plt.title(\" Effect of anaemia on Child Stunting \", weight ='bold')\n",
    "plt.savefig('./../Plots/RESULT PLOTS/plot16.png')\n",
    "plt.show()"
   ]
  },
  {
   "cell_type": "markdown",
   "metadata": {},
   "source": [
    "# 3. Association Rule Mining to identify factors that affect child stunting"
   ]
  },
  {
   "cell_type": "code",
   "execution_count": 60,
   "metadata": {},
   "outputs": [],
   "source": [
    "df_apriori = pd.read_csv('./../Data/working_data/equal_frequency_discretised_data_7.csv')\n",
    "df_apriori.drop(df_apriori.columns[[0]], axis = 1, inplace = True) \n",
    "df_apriori = df_apriori[['1. Population (female) age 6+ years who ever attended school (%)' , \n",
    " '8. Households using improved sanitation facility2 (%)' , \n",
    " '9. Households using clean fuel for cooking3 (%)' ,\n",
    " '12. Women who are literate (%)',\n",
    " '13. Men who are literate (%)' , \n",
    " '62. Children under age 3 years breastfed within one hour of birth8 (%)',\n",
    " '65. Breastfeeding children age 6-23 months receiving an adequate diet9 10 (%)',\n",
    " '67. Total children age 6-23 months receiving an adequate diet9 10 (%)',\n",
    " '72. Women whose Body Mass Index (BMI) is below normal (BMI <18.5 kg/m2) (%)',\n",
    " '76. Children age 6-59 months who are anaemic (<11.0 g/dl) (%)',\n",
    " '79. All women age 15-49 years who are anaemic (%)',\n",
    " '14. Women with 10 or more years of schooling (%)',\n",
    " '15. Women age 20-24 years married before age 18 years (%)',\n",
    " '19. Any modern method (%)',\n",
    " '30. Mothers who had at least 4 antenatal care visits (%)',\n",
    " '32. Mothers who consumed iron folic acid for 100 days or more when they were pregnant (%)',\n",
    " '47. Children age 12-23 months fully immunized (BCG measles and 3 doses each of polio/DPT) (%)',\n",
    "                         '68. Children under 5 years who are stunted11 (%)'\n",
    "                        ]]"
   ]
  },
  {
   "cell_type": "code",
   "execution_count": 61,
   "metadata": {},
   "outputs": [],
   "source": [
    "df_apriori = df_apriori.drop(columns = ['1. Population (female) age 6+ years who ever attended school (%)' , '14. Women with 10 or more years of schooling (%)','65. Breastfeeding children age 6-23 months receiving an adequate diet9 10 (%)' ,'76. Children age 6-59 months who are anaemic (<11.0 g/dl) (%)', '79. All women age 15-49 years who are anaemic (%)','30. Mothers who had at least 4 antenatal care visits (%)' , '47. Children age 12-23 months fully immunized (BCG measles and 3 doses each of polio/DPT) (%)'])"
   ]
  },
  {
   "cell_type": "code",
   "execution_count": 62,
   "metadata": {},
   "outputs": [],
   "source": [
    "cols = df_apriori.columns\n",
    "df_apriori = df_apriori.values\n",
    "df_apriori = df_apriori.tolist()"
   ]
  },
  {
   "cell_type": "markdown",
   "metadata": {},
   "source": [
    "## 3.1 Conversion of categorical attributes into a suitable input for association rule mining (assymetric binary attributes)\n",
    "\n",
    "each attribute will be converted from attribute_name to attribute_name - low , attribute_name - med , attribute_name - high"
   ]
  },
  {
   "cell_type": "code",
   "execution_count": 63,
   "metadata": {},
   "outputs": [],
   "source": [
    "for row in df_apriori:\n",
    "  for i in range(len(row)):\n",
    "    row[i] = cols[i] + ' ' + row[i]"
   ]
  },
  {
   "cell_type": "markdown",
   "metadata": {},
   "source": [
    "## 3.2 Implementation of Association Rule Mining (Using Apriori Algorithm)"
   ]
  },
  {
   "cell_type": "code",
   "execution_count": 64,
   "metadata": {},
   "outputs": [
    {
     "name": "stdout",
     "output_type": "stream",
     "text": [
      "<class 'generator'>\n",
      "<generator object GetRecords at 0x1c20541350>\n"
     ]
    }
   ],
   "source": [
    "# Functions to perform associarion rule mining\n",
    "def GetRecords(dfApriori):\n",
    "\n",
    "  for listt in dfApriori:\n",
    "      recordToYield = frozenset(listt)  \n",
    "      yield recordToYield\n",
    "\n",
    "dfApriori = df_apriori\n",
    "records_ = GetRecords(dfApriori)\n",
    "print(type(records_))\n",
    "print(records_)\n",
    "\n",
    "import sys\n",
    "\n",
    "from itertools import chain, combinations\n",
    "from collections import defaultdict\n",
    "from optparse import OptionParser\n",
    "\n",
    "\n",
    "def subsets(arr):\n",
    "   \n",
    "    return chain(*[combinations(arr, i + 1) for i, a in enumerate(arr)])\n",
    "\n",
    "\n",
    "def returnItemsWithMinSupport(itemSet, transactionList, minSupport, freqSet):\n",
    "       \n",
    "        _itemSet = set()\n",
    "        localSet = defaultdict(int)\n",
    "\n",
    "        for item in itemSet:\n",
    "                for transaction in transactionList:\n",
    "                        if item.issubset(transaction):\n",
    "                                freqSet[item] += 1\n",
    "                                localSet[item] += 1\n",
    "\n",
    "        for item, count in localSet.items():\n",
    "                support = float(count)/len(transactionList)\n",
    "\n",
    "                if support >= minSupport:\n",
    "                        _itemSet.add(item)\n",
    "\n",
    "        return _itemSet\n",
    "\n",
    "\n",
    "def joinSet(itemSet, length):\n",
    "        return set([i.union(j) for i in itemSet for j in itemSet if len(i.union(j)) == length])\n",
    "\n",
    "\n",
    "def getItemSetTransactionList(data_iterator):\n",
    "    transactionList = list()\n",
    "    itemSet = set()\n",
    "    for record in data_iterator:\n",
    "        transaction = frozenset(record)\n",
    "        transactionList.append(transaction)\n",
    "        for item in transaction:\n",
    "            itemSet.add(frozenset([item]))              # Generate 1-itemSets\n",
    "    return itemSet, transactionList\n",
    "\n",
    "\n",
    "def runApriori(data_iter, minSupport, minConfidence):\n",
    "   \n",
    "    itemSet, transactionList = getItemSetTransactionList(data_iter)\n",
    "    freqSet = defaultdict(int)\n",
    "    largeSet = dict()\n",
    "    # Global dictionary which stores (key=n-itemSets,value=support)\n",
    "    # which satisfy minSupport\n",
    "\n",
    "    assocRules = dict()\n",
    "    # Dictionary which stores Association Rules\n",
    "    #C-1 itemset\n",
    "    oneCSet = returnItemsWithMinSupport(itemSet,\n",
    "                                        transactionList,\n",
    "                                        minSupport,\n",
    "                                        freqSet)\n",
    "    #freq-1 itemset\n",
    "    currentLSet = oneCSet\n",
    "    k = 2\n",
    "    while(currentLSet != set([])):\n",
    "        largeSet[k-1] = currentLSet\n",
    "        currentLSet = joinSet(currentLSet, k)\n",
    "        currentCSet = returnItemsWithMinSupport(currentLSet,\n",
    "                                                transactionList,\n",
    "                                                minSupport,\n",
    "                                                freqSet)\n",
    "        currentLSet = currentCSet\n",
    "        k = k + 1\n",
    "\n",
    "    def getSupport(item):\n",
    "            return float(freqSet[item])/len(transactionList)\n",
    "\n",
    "            \n",
    "#largeSet dict contains the freq Itemsets\n",
    "    toRetItems = []\n",
    "    for key, value in largeSet.items():\n",
    "        toRetItems.extend([(tuple(item), getSupport(item))\n",
    "                           for item in value])\n",
    "\n",
    "    toRetRules = []\n",
    "    for key, value in largeSet.items():\n",
    "      if not key==0:\n",
    "        for item in value:\n",
    "            _subsets = map(frozenset, [x for x in subsets(item)])\n",
    "            for element in _subsets:\n",
    "                remain = item.difference(element)\n",
    "                if len(remain) > 0:\n",
    "                    confidence = getSupport(item)/getSupport(element)\n",
    "                    if confidence >= minConfidence:\n",
    "                        toRetRules.append(((tuple(element), tuple(remain)),\n",
    "                                           confidence))\n",
    "    return toRetItems, toRetRules\n"
   ]
  },
  {
   "cell_type": "markdown",
   "metadata": {},
   "source": [
    "**We mined association rules which satisfied a support threshold of 0.15 and confidence threshold of 0.6**"
   ]
  },
  {
   "cell_type": "code",
   "execution_count": 65,
   "metadata": {},
   "outputs": [],
   "source": [
    "items_, rules_ = runApriori(records_, 0.15, 0.60)\n"
   ]
  },
  {
   "cell_type": "markdown",
   "metadata": {},
   "source": [
    "## 3.3 Frequent Itemsets (Support > 0.15) containing the attribute '% of Children under 5 years who are stunted- high'"
   ]
  },
  {
   "cell_type": "code",
   "execution_count": 66,
   "metadata": {},
   "outputs": [
    {
     "name": "stdout",
     "output_type": "stream",
     "text": [
      "(('68. Children under 5 years who are stunted11 (%) high',), 0.33126934984520123)\n",
      "\n",
      "\n",
      "\n",
      "(('68. Children under 5 years who are stunted11 (%) high', '8. Households using improved sanitation facility2 (%) low'), 0.228328173374613)\n",
      "\n",
      "\n",
      "\n",
      "(('19. Any modern method (%) low', '68. Children under 5 years who are stunted11 (%) high'), 0.16718266253869968)\n",
      "\n",
      "\n",
      "\n",
      "(('68. Children under 5 years who are stunted11 (%) high', '9. Households using clean fuel for cooking3 (%) low'), 0.19272445820433437)\n",
      "\n",
      "\n",
      "\n",
      "(('62. Children under age 3 years breastfed within one hour of birth8 (%) low', '68. Children under 5 years who are stunted11 (%) high'), 0.1586687306501548)\n",
      "\n",
      "\n",
      "\n",
      "(('13. Men who are literate (%) low', '68. Children under 5 years who are stunted11 (%) high'), 0.19582043343653252)\n",
      "\n",
      "\n",
      "\n",
      "(('67. Total children age 6-23 months receiving an adequate diet9 10 (%) low', '68. Children under 5 years who are stunted11 (%) high'), 0.1609907120743034)\n",
      "\n",
      "\n",
      "\n",
      "(('15. Women age 20-24 years married before age 18 years (%) high', '68. Children under 5 years who are stunted11 (%) high'), 0.18808049535603716)\n",
      "\n",
      "\n",
      "\n",
      "(('68. Children under 5 years who are stunted11 (%) high', '72. Women whose Body Mass Index (BMI) is below normal (BMI <18.5 kg/m2) (%) high'), 0.21052631578947367)\n",
      "\n",
      "\n",
      "\n",
      "(('68. Children under 5 years who are stunted11 (%) high', '12. Women who are literate (%) low'), 0.21594427244582043)\n",
      "\n",
      "\n",
      "\n",
      "(('32. Mothers who consumed iron folic acid for 100 days or more when they were pregnant (%) low', '68. Children under 5 years who are stunted11 (%) high'), 0.18653250773993807)\n",
      "\n",
      "\n",
      "\n",
      "(('15. Women age 20-24 years married before age 18 years (%) high', '68. Children under 5 years who are stunted11 (%) high', '12. Women who are literate (%) low'), 0.16021671826625386)\n",
      "\n",
      "\n",
      "\n",
      "(('13. Men who are literate (%) low', '68. Children under 5 years who are stunted11 (%) high', '8. Households using improved sanitation facility2 (%) low'), 0.15170278637770898)\n",
      "\n",
      "\n",
      "\n",
      "(('68. Children under 5 years who are stunted11 (%) high', '8. Households using improved sanitation facility2 (%) low', '9. Households using clean fuel for cooking3 (%) low'), 0.17105263157894737)\n",
      "\n",
      "\n",
      "\n",
      "(('68. Children under 5 years who are stunted11 (%) high', '12. Women who are literate (%) low', '72. Women whose Body Mass Index (BMI) is below normal (BMI <18.5 kg/m2) (%) high'), 0.17182662538699692)\n",
      "\n",
      "\n",
      "\n",
      "(('15. Women age 20-24 years married before age 18 years (%) high', '68. Children under 5 years who are stunted11 (%) high', '8. Households using improved sanitation facility2 (%) low'), 0.15092879256965944)\n",
      "\n",
      "\n",
      "\n",
      "(('13. Men who are literate (%) low', '68. Children under 5 years who are stunted11 (%) high', '12. Women who are literate (%) low'), 0.17337461300309598)\n",
      "\n",
      "\n",
      "\n",
      "(('68. Children under 5 years who are stunted11 (%) high', '12. Women who are literate (%) low', '9. Households using clean fuel for cooking3 (%) low'), 0.15247678018575853)\n",
      "\n",
      "\n",
      "\n",
      "(('68. Children under 5 years who are stunted11 (%) high', '8. Households using improved sanitation facility2 (%) low', '72. Women whose Body Mass Index (BMI) is below normal (BMI <18.5 kg/m2) (%) high'), 0.16718266253869968)\n",
      "\n",
      "\n",
      "\n",
      "(('32. Mothers who consumed iron folic acid for 100 days or more when they were pregnant (%) low', '68. Children under 5 years who are stunted11 (%) high', '12. Women who are literate (%) low'), 0.15015479876160992)\n",
      "\n",
      "\n",
      "\n",
      "(('12. Women who are literate (%) low', '68. Children under 5 years who are stunted11 (%) high', '8. Households using improved sanitation facility2 (%) low'), 0.17647058823529413)\n",
      "\n",
      "\n",
      "\n",
      "(('32. Mothers who consumed iron folic acid for 100 days or more when they were pregnant (%) low', '68. Children under 5 years who are stunted11 (%) high', '8. Households using improved sanitation facility2 (%) low'), 0.15170278637770898)\n",
      "\n",
      "\n",
      "\n"
     ]
    }
   ],
   "source": [
    "for complete_tuple in items_:\n",
    "    itemset = complete_tuple[0]\n",
    "    if('68. Children under 5 years who are stunted11 (%) high' in itemset):\n",
    "        print(complete_tuple)\n",
    "        print(\"\\n\\n\")"
   ]
  },
  {
   "cell_type": "markdown",
   "metadata": {},
   "source": [
    "## 3.4 Association Rules (Confidence > 0.6) containing the attribute '% of Children under 5 years who are stunted- high' as its consequent (post condition)"
   ]
  },
  {
   "cell_type": "code",
   "execution_count": 67,
   "metadata": {},
   "outputs": [
    {
     "name": "stdout",
     "output_type": "stream",
     "text": [
      "('8. Households using improved sanitation facility2 (%) low',) ---> ('68. Children under 5 years who are stunted11 (%) high',)\n",
      "CONFIDENCE is: 0.6844547563805103\n",
      "\n",
      "\n",
      "\n",
      "('72. Women whose Body Mass Index (BMI) is below normal (BMI <18.5 kg/m2) (%) high',) ---> ('68. Children under 5 years who are stunted11 (%) high',)\n",
      "CONFIDENCE is: 0.6325581395348837\n",
      "\n",
      "\n",
      "\n",
      "('12. Women who are literate (%) low',) ---> ('68. Children under 5 years who are stunted11 (%) high',)\n",
      "CONFIDENCE is: 0.6473317865429233\n",
      "\n",
      "\n",
      "\n",
      "('15. Women age 20-24 years married before age 18 years (%) high', '12. Women who are literate (%) low') ---> ('68. Children under 5 years who are stunted11 (%) high',)\n",
      "CONFIDENCE is: 0.6877076411960132\n",
      "\n",
      "\n",
      "\n",
      "('13. Men who are literate (%) low', '8. Households using improved sanitation facility2 (%) low') ---> ('68. Children under 5 years who are stunted11 (%) high',)\n",
      "CONFIDENCE is: 0.7626459143968872\n",
      "\n",
      "\n",
      "\n",
      "('8. Households using improved sanitation facility2 (%) low', '9. Households using clean fuel for cooking3 (%) low') ---> ('68. Children under 5 years who are stunted11 (%) high',)\n",
      "CONFIDENCE is: 0.7317880794701986\n",
      "\n",
      "\n",
      "\n",
      "('12. Women who are literate (%) low', '72. Women whose Body Mass Index (BMI) is below normal (BMI <18.5 kg/m2) (%) high') ---> ('68. Children under 5 years who are stunted11 (%) high',)\n",
      "CONFIDENCE is: 0.7628865979381444\n",
      "\n",
      "\n",
      "\n",
      "('15. Women age 20-24 years married before age 18 years (%) high', '8. Households using improved sanitation facility2 (%) low') ---> ('68. Children under 5 years who are stunted11 (%) high',)\n",
      "CONFIDENCE is: 0.7862903225806451\n",
      "\n",
      "\n",
      "\n",
      "('13. Men who are literate (%) low', '12. Women who are literate (%) low') ---> ('68. Children under 5 years who are stunted11 (%) high',)\n",
      "CONFIDENCE is: 0.7066246056782335\n",
      "\n",
      "\n",
      "\n",
      "('12. Women who are literate (%) low', '9. Households using clean fuel for cooking3 (%) low') ---> ('68. Children under 5 years who are stunted11 (%) high',)\n",
      "CONFIDENCE is: 0.7433962264150944\n",
      "\n",
      "\n",
      "\n",
      "('8. Households using improved sanitation facility2 (%) low', '72. Women whose Body Mass Index (BMI) is below normal (BMI <18.5 kg/m2) (%) high') ---> ('68. Children under 5 years who are stunted11 (%) high',)\n",
      "CONFIDENCE is: 0.7448275862068965\n",
      "\n",
      "\n",
      "\n",
      "('32. Mothers who consumed iron folic acid for 100 days or more when they were pregnant (%) low', '12. Women who are literate (%) low') ---> ('68. Children under 5 years who are stunted11 (%) high',)\n",
      "CONFIDENCE is: 0.7238805970149254\n",
      "\n",
      "\n",
      "\n",
      "('8. Households using improved sanitation facility2 (%) low', '12. Women who are literate (%) low') ---> ('68. Children under 5 years who are stunted11 (%) high',)\n",
      "CONFIDENCE is: 0.7781569965870307\n",
      "\n",
      "\n",
      "\n",
      "('32. Mothers who consumed iron folic acid for 100 days or more when they were pregnant (%) low', '8. Households using improved sanitation facility2 (%) low') ---> ('68. Children under 5 years who are stunted11 (%) high',)\n",
      "CONFIDENCE is: 0.8132780082987553\n",
      "\n",
      "\n",
      "\n"
     ]
    }
   ],
   "source": [
    "for complete_tuple in rules_:\n",
    "    rule = complete_tuple[0]\n",
    "    antecedent = rule[0]\n",
    "    consequent = rule[1] \n",
    "    if('68. Children under 5 years who are stunted11 (%) high' in consequent and len(consequent)==1):\n",
    "        print(str(antecedent)+' ---> '+str(consequent))\n",
    "        conf = complete_tuple[1]\n",
    "        print('CONFIDENCE is: '+str(conf))\n",
    "        print(\"\\n\\n\")"
   ]
  },
  {
   "cell_type": "code",
   "execution_count": null,
   "metadata": {},
   "outputs": [],
   "source": []
  },
  {
   "cell_type": "code",
   "execution_count": null,
   "metadata": {},
   "outputs": [],
   "source": []
  }
 ],
 "metadata": {
  "kernelspec": {
   "display_name": "Python 3",
   "language": "python",
   "name": "python3"
  },
  "language_info": {
   "codemirror_mode": {
    "name": "ipython",
    "version": 3
   },
   "file_extension": ".py",
   "mimetype": "text/x-python",
   "name": "python",
   "nbconvert_exporter": "python",
   "pygments_lexer": "ipython3",
   "version": "3.7.4"
  }
 },
 "nbformat": 4,
 "nbformat_minor": 2
}
